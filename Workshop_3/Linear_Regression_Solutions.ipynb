{
  "nbformat": 4,
  "nbformat_minor": 0,
  "metadata": {
    "colab": {
      "name": "Linear Regression Solutions.ipynb",
      "provenance": []
    },
    "kernelspec": {
      "name": "python3",
      "display_name": "Python 3"
    },
    "language_info": {
      "name": "python"
    }
  },
  "cells": [
    {
      "cell_type": "code",
      "metadata": {
        "id": "J4lGEXuxK3Lw"
      },
      "source": [
        "import numpy as np\n",
        "from sklearn import datasets\n",
        "from sklearn.linear_model import LinearRegression\n",
        "from sklearn.model_selection import train_test_split\n",
        "from sklearn.metrics import r2_score, mean_squared_error\n",
        "import matplotlib.pyplot as plt"
      ],
      "execution_count": null,
      "outputs": []
    },
    {
      "cell_type": "code",
      "metadata": {
        "id": "QO4CLM5LLuwA"
      },
      "source": [
        "# Data Creation\n",
        "num_data = 300\n",
        "X = np.linspace(0, 50, num_data)\n",
        "noise = 15 * np.random.randn(num_data) \n",
        "y = 4 * X + 14 + noise\n"
      ],
      "execution_count": null,
      "outputs": []
    },
    {
      "cell_type": "code",
      "metadata": {
        "id": "GasCEr25pvzY",
        "colab": {
          "base_uri": "https://localhost:8080/",
          "height": 215
        },
        "outputId": "199efa5e-1192-4244-cca0-6022880562e1"
      },
      "source": [
        "# Split and Preprocess Data\n",
        "X_train, X_test, y_train, y_test = train_test_split(X, y, test_size=0.2, shuffle=False)\n",
        "X_train = X_train.reshape(-1, 1)\n",
        "X_test = X_test.reshape(-1, 1)"
      ],
      "execution_count": null,
      "outputs": [
        {
          "output_type": "error",
          "ename": "NameError",
          "evalue": "ignored",
          "traceback": [
            "\u001b[0;31m---------------------------------------------------------------------------\u001b[0m",
            "\u001b[0;31mNameError\u001b[0m                                 Traceback (most recent call last)",
            "\u001b[0;32m<ipython-input-1-a08494f69645>\u001b[0m in \u001b[0;36m<module>\u001b[0;34m()\u001b[0m\n\u001b[1;32m      1\u001b[0m \u001b[0;31m# Split and Preprocess Data\u001b[0m\u001b[0;34m\u001b[0m\u001b[0;34m\u001b[0m\u001b[0;34m\u001b[0m\u001b[0m\n\u001b[0;32m----> 2\u001b[0;31m \u001b[0mX_train\u001b[0m\u001b[0;34m,\u001b[0m \u001b[0mX_test\u001b[0m\u001b[0;34m,\u001b[0m \u001b[0my_train\u001b[0m\u001b[0;34m,\u001b[0m \u001b[0my_test\u001b[0m \u001b[0;34m=\u001b[0m \u001b[0mtrain_test_split\u001b[0m\u001b[0;34m(\u001b[0m\u001b[0mX\u001b[0m\u001b[0;34m,\u001b[0m \u001b[0my\u001b[0m\u001b[0;34m,\u001b[0m \u001b[0mtest_size\u001b[0m\u001b[0;34m=\u001b[0m\u001b[0;36m0.2\u001b[0m\u001b[0;34m,\u001b[0m \u001b[0mshuffle\u001b[0m\u001b[0;34m=\u001b[0m\u001b[0;32mFalse\u001b[0m\u001b[0;34m)\u001b[0m\u001b[0;34m\u001b[0m\u001b[0;34m\u001b[0m\u001b[0m\n\u001b[0m\u001b[1;32m      3\u001b[0m \u001b[0mX_train\u001b[0m \u001b[0;34m=\u001b[0m \u001b[0mX_train\u001b[0m\u001b[0;34m.\u001b[0m\u001b[0mreshape\u001b[0m\u001b[0;34m(\u001b[0m\u001b[0;34m-\u001b[0m\u001b[0;36m1\u001b[0m\u001b[0;34m,\u001b[0m \u001b[0;36m1\u001b[0m\u001b[0;34m)\u001b[0m\u001b[0;34m\u001b[0m\u001b[0;34m\u001b[0m\u001b[0m\n\u001b[1;32m      4\u001b[0m \u001b[0mX_test\u001b[0m \u001b[0;34m=\u001b[0m \u001b[0mX_test\u001b[0m\u001b[0;34m.\u001b[0m\u001b[0mreshape\u001b[0m\u001b[0;34m(\u001b[0m\u001b[0;34m-\u001b[0m\u001b[0;36m1\u001b[0m\u001b[0;34m,\u001b[0m \u001b[0;36m1\u001b[0m\u001b[0;34m)\u001b[0m\u001b[0;34m\u001b[0m\u001b[0;34m\u001b[0m\u001b[0m\n",
            "\u001b[0;31mNameError\u001b[0m: name 'train_test_split' is not defined"
          ]
        }
      ]
    },
    {
      "cell_type": "code",
      "metadata": {
        "id": "fJoEYDGQp2Qg"
      },
      "source": [
        "# Visualize Data\n",
        "plt.scatter(X_train, y_train, color='blue', label='Training')\n",
        "plt.scatter(X_test, y_test, color='red', label=\"Testing\")\n",
        "plt.legend()"
      ],
      "execution_count": null,
      "outputs": []
    },
    {
      "cell_type": "code",
      "metadata": {
        "colab": {
          "base_uri": "https://localhost:8080/"
        },
        "id": "hqrWSJtfq4NA",
        "outputId": "1fe718cb-e773-48f5-9971-b444c51693fc"
      },
      "source": [
        "# Fit Model\n",
        "model = LinearRegression()\n",
        "model.fit(X_train, y_train)\n"
      ],
      "execution_count": null,
      "outputs": [
        {
          "output_type": "execute_result",
          "data": {
            "text/plain": [
              "LinearRegression(copy_X=True, fit_intercept=True, n_jobs=None, normalize=False)"
            ]
          },
          "metadata": {
            "tags": []
          },
          "execution_count": 62
        }
      ]
    },
    {
      "cell_type": "code",
      "metadata": {
        "colab": {
          "base_uri": "https://localhost:8080/"
        },
        "id": "RS2KAQARsdrJ",
        "outputId": "265e7294-2ee9-4522-ba0d-b7518c3717f1"
      },
      "source": [
        "# Check Model's Params\n",
        "print(\"Coefficients: {}\".format(model.coef_))\n",
        "print(\"Intercept: {}\".format(model.intercept_))"
      ],
      "execution_count": null,
      "outputs": [
        {
          "output_type": "stream",
          "text": [
            "Coefficients: [3.99268495]\n",
            "Intercept: 14.7196508755233\n"
          ],
          "name": "stdout"
        }
      ]
    },
    {
      "cell_type": "code",
      "metadata": {
        "colab": {
          "base_uri": "https://localhost:8080/"
        },
        "id": "Okk7fs6jvlyq",
        "outputId": "6e4df664-4dbb-4007-daee-8ae0294b2deb"
      },
      "source": [
        "# Test Data\n",
        "y_pred = model.predict(X_test)\n",
        "mse = mean_squared_error(y_test, y_pred)\n",
        "r2 = r2_score(y_test, y_pred)\n",
        "\n",
        "print(\"Mean Squared Error: {}\".format(mse))\n",
        "print(\"R Squared: {}\".format(r2))"
      ],
      "execution_count": null,
      "outputs": [
        {
          "output_type": "stream",
          "text": [
            "Mean Squared Error: 215.36809926320788\n",
            "R Squared: 0.9279391049861726\n"
          ],
          "name": "stdout"
        }
      ]
    },
    {
      "cell_type": "code",
      "metadata": {
        "colab": {
          "base_uri": "https://localhost:8080/",
          "height": 282
        },
        "id": "A3cdCT-vtcQO",
        "outputId": "79d1fed6-4233-46ea-ba4e-d3bbdf01728b"
      },
      "source": [
        "# Plot Model \n",
        "plt.scatter(X_train, y_train, color='c', label='Training')\n",
        "plt.scatter(X_test, y_test, color='royalblue', label=\"Testing\")\n",
        "X_axis = np.linspace(0, 50, num_data).reshape(-1, 1)\n",
        "y_axis = model.predict(X_axis)\n",
        "plt.plot(X_axis, y_axis, color='red', label='Fit')\n",
        "plt.legend()"
      ],
      "execution_count": null,
      "outputs": [
        {
          "output_type": "execute_result",
          "data": {
            "text/plain": [
              "<matplotlib.legend.Legend at 0x7f7dfc7ffb10>"
            ]
          },
          "metadata": {
            "tags": []
          },
          "execution_count": 65
        },
        {
          "output_type": "display_data",
          "data": {
            "image/png": "[encoded data removed]",
            "text/plain": [
              "<Figure size 432x288 with 1 Axes>"
            ]
          },
          "metadata": {
            "tags": [],
            "needs_background": "light"
          }
        }
      ]
    },
    {
      "cell_type": "markdown",
      "metadata": {
        "id": "8GInqyZ3xLRa"
      },
      "source": [
        "**Real Dataset with Higher Dimensions Example**"
      ]
    },
    {
      "cell_type": "code",
      "metadata": {
        "id": "KLrBuuintld6"
      },
      "source": [
        "# Load Dataset\n",
        "diabetes_X, diabetes_y = datasets.load_diabetes(return_X_y=True)"
      ],
      "execution_count": null,
      "outputs": []
    },
    {
      "cell_type": "code",
      "metadata": {
        "id": "6vNYjJSwtqDs"
      },
      "source": [
        "# Split Data\n",
        "X_train, X_test, y_train, y_test = train_test_split(diabetes_X, diabetes_Y, test_size=0.2, shuffle=True)"
      ],
      "execution_count": null,
      "outputs": []
    },
    {
      "cell_type": "code",
      "metadata": {
        "colab": {
          "base_uri": "https://localhost:8080/"
        },
        "id": "bb0pm7Onx4-S",
        "outputId": "9cfa5d3e-8d05-40d8-98e8-4c0f66b842a5"
      },
      "source": [
        "# Fit Model\n",
        "diabetes_model = LinearRegression()\n",
        "diabetes_model.fit(X_train, y_train)"
      ],
      "execution_count": null,
      "outputs": [
        {
          "output_type": "execute_result",
          "data": {
            "text/plain": [
              "LinearRegression(copy_X=True, fit_intercept=True, n_jobs=None, normalize=False)"
            ]
          },
          "metadata": {
            "tags": []
          },
          "execution_count": 69
        }
      ]
    },
    {
      "cell_type": "code",
      "metadata": {
        "colab": {
          "base_uri": "https://localhost:8080/"
        },
        "id": "V7cLu2JlyXtQ",
        "outputId": "a25827ad-f1cc-442b-ffd2-21d19506ff41"
      },
      "source": [
        "# Check Model's Params\n",
        "print(\"Coefficients: {}\".format(diabetes_model.coef_))\n",
        "print(\"Intercept: {}\".format(diabetes_model.intercept_))"
      ],
      "execution_count": null,
      "outputs": [
        {
          "output_type": "stream",
          "text": [
            "Coefficients: [ -13.07059045 -290.68512632  486.61416317  294.68739721 -583.83105696\n",
            "  377.85439046   -4.31929145  158.83224831  648.97693544   72.62107575]\n",
            "Intercept: 151.3120927770147\n"
          ],
          "name": "stdout"
        }
      ]
    },
    {
      "cell_type": "code",
      "metadata": {
        "id": "gGy54oZzywei"
      },
      "source": [
        "# Predict on Test Data\n",
        "diabetes_pred = diabetes_model.predict(X_test)"
      ],
      "execution_count": null,
      "outputs": []
    },
    {
      "cell_type": "code",
      "metadata": {
        "colab": {
          "base_uri": "https://localhost:8080/"
        },
        "id": "qOPniSZJzAfj",
        "outputId": "4f10a99c-a838-4eac-a2a8-bb98af7921a5"
      },
      "source": [
        "# Check Error\n",
        "diabetes_mse = mean_squared_error(y_test, diabetes_pred)\n",
        "diabetes_r2 = r2_score(y_test, diabetes_pred)\n",
        "print(\"Mean Squared Error: {}\".format(diabetes_mse))\n",
        "print(\"R Squared: {}\".format(diabetes_r2))"
      ],
      "execution_count": null,
      "outputs": [
        {
          "output_type": "stream",
          "text": [
            "Mean Squared Error: 2463.488713670028\n",
            "R Squared: 0.6289909000997944\n"
          ],
          "name": "stdout"
        }
      ]
    },
    {
      "cell_type": "markdown",
      "metadata": {
        "id": "mfZGAyd2z0I5"
      },
      "source": [
        "Extension: If you want to try this out more, consider only looking at one of the ten input variables from this dataset. Then, you can plot the regression and get a picture of why this dataset isn't the best for linear regression.\n"
      ]
    },
    {
      "cell_type": "code",
      "metadata": {
        "id": "rzliyGh4zNhU"
      },
      "source": [
        ""
      ],
      "execution_count": null,
      "outputs": []
    }
  ]
}