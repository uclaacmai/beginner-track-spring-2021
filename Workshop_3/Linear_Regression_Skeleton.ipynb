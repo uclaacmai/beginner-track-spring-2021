{
  "nbformat": 4,
  "nbformat_minor": 0,
  "metadata": {
    "colab": {
      "name": "Linear Regression Skeleton.ipynb",
      "provenance": [],
      "collapsed_sections": []
    },
    "kernelspec": {
      "name": "python3",
      "display_name": "Python 3"
    },
    "language_info": {
      "name": "python"
    }
  },
  "cells": [
    {
      "cell_type": "code",
      "metadata": {
        "id": "J4lGEXuxK3Lw"
      },
      "source": [
        "import numpy as np\n",
        "from sklearn import datasets\n",
        "from sklearn.linear_model import LinearRegression\n",
        "from sklearn.model_selection import train_test_split\n",
        "from sklearn.metrics import r2_score, mean_squared_error\n",
        "import matplotlib.pyplot as plt"
      ],
      "execution_count": null,
      "outputs": []
    },
    {
      "cell_type": "code",
      "metadata": {
        "id": "QO4CLM5LLuwA"
      },
      "source": [
        "# Data Creation\n",
        "num_data_pts = 300\n",
        "X = np.linspace(0, 50, num_data_pts)\n",
        "noise = 15 * np.random.randn(num_data_pts) \n",
        "y = 4 * X + 14 + noise\n"
      ],
      "execution_count": null,
      "outputs": []
    },
    {
      "cell_type": "code",
      "metadata": {
        "id": "GasCEr25pvzY",
        "cellView": "code"
      },
      "source": [
        "# Split and Preprocess Data - 1 line\n",
        "# TODO: use train_test_split: https://scikit-learn.org/stable/modules/generated/sklearn.model_selection.train_test_split.html\n",
        "X_train, X_test, y_train, y_test = train_test_split(X, y, test_size=0.2, shuffle=True)"
      ],
      "execution_count": null,
      "outputs": []
    },
    {
      "cell_type": "code",
      "metadata": {
        "colab": {
          "base_uri": "https://localhost:8080/"
        },
        "id": "baOo4wEMiVmR",
        "outputId": "09de5c0c-4a15-41fc-ae79-6e695545a66a"
      },
      "source": [
        "X_train.shape"
      ],
      "execution_count": null,
      "outputs": [
        {
          "output_type": "execute_result",
          "data": {
            "text/plain": [
              "(240,)"
            ]
          },
          "metadata": {
            "tags": []
          },
          "execution_count": 9
        }
      ]
    },
    {
      "cell_type": "code",
      "metadata": {
        "id": "fJoEYDGQp2Qg",
        "cellView": "code",
        "colab": {
          "base_uri": "https://localhost:8080/",
          "height": 282
        },
        "outputId": "05504c1a-f037-47ce-b681-dddacca77e4b"
      },
      "source": [
        "# Visualize Data - 2 lines \n",
        "# TODO: plot the data points using plt.scatter: https://matplotlib.org/stable/api/_as_gen/matplotlib.pyplot.scatter.html\n",
        "plt.scatter(X_test, y_test, color='red')\n",
        "plt.scatter(X_train, y_train, color='blue')"
      ],
      "execution_count": null,
      "outputs": [
        {
          "output_type": "execute_result",
          "data": {
            "text/plain": [
              "<matplotlib.collections.PathCollection at 0x7f77759d4b90>"
            ]
          },
          "metadata": {
            "tags": []
          },
          "execution_count": 7
        },
        {
          "output_type": "display_data",
          "data": {
            "image/png": "[encoded data removed]",
            "text/plain": [
              "<Figure size 432x288 with 1 Axes>"
            ]
          },
          "metadata": {
            "tags": [],
            "needs_background": "light"
          }
        }
      ]
    },
    {
      "cell_type": "code",
      "metadata": {
        "colab": {
          "base_uri": "https://localhost:8080/"
        },
        "id": "K7SKWh9giixS",
        "outputId": "cfedda0f-a6d2-429e-cdfd-01b3d3cbfc4c"
      },
      "source": [
        "X_train = X_train.reshape(-1, 1)\n",
        "X_test = X_test.reshape(-1, 1)\n",
        "X_train.shape"
      ],
      "execution_count": null,
      "outputs": [
        {
          "output_type": "execute_result",
          "data": {
            "text/plain": [
              "(240, 1)"
            ]
          },
          "metadata": {
            "tags": []
          },
          "execution_count": 13
        }
      ]
    },
    {
      "cell_type": "code",
      "metadata": {
        "id": "hqrWSJtfq4NA",
        "colab": {
          "base_uri": "https://localhost:8080/"
        },
        "outputId": "1314344e-2380-461d-9259-eac4251ae86c"
      },
      "source": [
        "# Fit Model - 1 line\n",
        "model = LinearRegression()\n",
        "# TODO: which model method should we use: https://scikit-learn.org/stable/modules/generated/sklearn.linear_model.LinearRegression.html#sklearn.linear_model.LinearRegression\n",
        "model.fit(X_train, y_train)\n"
      ],
      "execution_count": null,
      "outputs": [
        {
          "output_type": "execute_result",
          "data": {
            "text/plain": [
              "LinearRegression(copy_X=True, fit_intercept=True, n_jobs=None, normalize=False)"
            ]
          },
          "metadata": {
            "tags": []
          },
          "execution_count": 14
        }
      ]
    },
    {
      "cell_type": "code",
      "metadata": {
        "id": "RS2KAQARsdrJ",
        "colab": {
          "base_uri": "https://localhost:8080/"
        },
        "outputId": "3084aebb-8dcb-4721-fc2e-117c3838010b"
      },
      "source": [
        "# Print Model's Params - 1/2 lines\n",
        "# TODO: Get Model's coefficients and intercept: https://scikit-learn.org/stable/modules/generated/sklearn.linear_model.LinearRegression.html#sklearn.linear_model.LinearRegression\n",
        "print(\"Coefficients: {}\".format(model.coef_))\n",
        "print(\"Bias: {}\".format(model.intercept_))"
      ],
      "execution_count": null,
      "outputs": [
        {
          "output_type": "stream",
          "text": [
            "Coefficients: [3.98204172]\n",
            "Bias: 14.246604677747783\n"
          ],
          "name": "stdout"
        }
      ]
    },
    {
      "cell_type": "code",
      "metadata": {
        "id": "Okk7fs6jvlyq",
        "colab": {
          "base_uri": "https://localhost:8080/"
        },
        "outputId": "2a209a6e-8481-44ce-fced-72f50f814ee5"
      },
      "source": [
        "# Run on Test Data and Check Error - 3 lines + 1/2 lines (print errors)\n",
        "# TODO: which model method should we use: https://scikit-learn.org/stable/modules/generated/sklearn.linear_model.LinearRegression.html#sklearn.linear_model.LinearRegression\n",
        "# Lucky for you, two error checking methods were imported in the first cell for you to use!\n",
        "y_pred = model.predict(X_test)\n",
        "mse = mean_squared_error(y_test, y_pred)\n",
        "r2 = r2_score(y_test, y_pred)\n",
        "print(mse)\n",
        "print(r2)"
      ],
      "execution_count": null,
      "outputs": [
        {
          "output_type": "stream",
          "text": [
            "225.65704453565917\n",
            "0.9377688731890295\n"
          ],
          "name": "stdout"
        }
      ]
    },
    {
      "cell_type": "code",
      "metadata": {
        "id": "A3cdCT-vtcQO",
        "colab": {
          "base_uri": "https://localhost:8080/",
          "height": 282
        },
        "outputId": "3a0fb49c-871c-468d-97be-e802ee79c93d"
      },
      "source": [
        "# Plot Model - 3 lines\n",
        "plt.scatter(X_train, y_train, color='c', label='Training')\n",
        "plt.scatter(X_test, y_test, color='royalblue', label=\"Testing\")\n",
        "# TODO: create a range for X like we done in the data creation section, then figure out how to get Y from that using model\n",
        "# Use plt.plot for a line: https://matplotlib.org/stable/api/_as_gen/matplotlib.pyplot.plot.html\n",
        "x_axis = np.linspace(0, 50, num_data_pts)\n",
        "x_axis = x_axis.reshape(-1, 1)\n",
        "y_axis = model.predict(x_axis)\n",
        "plt.plot(x_axis, y_axis, color='red', label=\"Fit\")\n",
        "plt.legend()"
      ],
      "execution_count": null,
      "outputs": [
        {
          "output_type": "execute_result",
          "data": {
            "text/plain": [
              "<matplotlib.legend.Legend at 0x7f7773487150>"
            ]
          },
          "metadata": {
            "tags": []
          },
          "execution_count": 24
        },
        {
          "output_type": "display_data",
          "data": {
            "image/png": "[encoded data removed]",
            "text/plain": [
              "<Figure size 432x288 with 1 Axes>"
            ]
          },
          "metadata": {
            "tags": [],
            "needs_background": "light"
          }
        }
      ]
    },
    {
      "cell_type": "markdown",
      "metadata": {
        "id": "8GInqyZ3xLRa"
      },
      "source": [
        "**Real Dataset with Higher Dimensions Example**"
      ]
    },
    {
      "cell_type": "code",
      "metadata": {
        "id": "KLrBuuintld6"
      },
      "source": [
        "# Load Dataset - 1 line\n",
        "# TODO: load the diabetes dataset: https://scikit-learn.org/stable/modules/generated/sklearn.datasets.load_diabetes.html#sklearn.datasets.load_diabetes\n"
      ],
      "execution_count": null,
      "outputs": []
    },
    {
      "cell_type": "code",
      "metadata": {
        "id": "6vNYjJSwtqDs"
      },
      "source": [
        "# Split Data: https://scikit-learn.org/stable/modules/generated/sklearn.model_selection.train_test_split.html\n",
        "# TODO: split data into training and test data\n"
      ],
      "execution_count": null,
      "outputs": []
    },
    {
      "cell_type": "code",
      "metadata": {
        "id": "bb0pm7Onx4-S"
      },
      "source": [
        "# Create and Fit Model - 2 lines\n",
        "# TODO: Create LinearRegression Instance and fit model: https://scikit-learn.org/stable/modules/generated/sklearn.linear_model.LinearRegression.html#sklearn.linear_model.LinearRegression\n"
      ],
      "execution_count": null,
      "outputs": []
    },
    {
      "cell_type": "code",
      "metadata": {
        "id": "V7cLu2JlyXtQ"
      },
      "source": [
        "# Check Model's Params - 1/2 lines\n",
        "# TODO: Get Model's coefficients and intercept: https://scikit-learn.org/stable/modules/generated/sklearn.linear_model.LinearRegression.html#sklearn.linear_model.LinearRegression\n"
      ],
      "execution_count": null,
      "outputs": []
    },
    {
      "cell_type": "code",
      "metadata": {
        "id": "gGy54oZzywei"
      },
      "source": [
        "# Test Data Prediction\n",
        "# TODO: which model method should we use: https://scikit-learn.org/stable/modules/generated/sklearn.linear_model.LinearRegression.html#sklearn.linear_model.LinearRegression\n"
      ],
      "execution_count": null,
      "outputs": []
    },
    {
      "cell_type": "code",
      "metadata": {
        "id": "qOPniSZJzAfj"
      },
      "source": [
        "# Check Error\n",
        "# TODO: Use the two error calculation methods"
      ],
      "execution_count": null,
      "outputs": []
    },
    {
      "cell_type": "markdown",
      "metadata": {
        "id": "mfZGAyd2z0I5"
      },
      "source": [
        "Extension: If you want to try this out more, consider only looking at one of the ten input variables from this dataset. Then, you can plot the regression and get a picture of why linear regression isn't the .\n"
      ]
    },
    {
      "cell_type": "code",
      "metadata": {
        "id": "rzliyGh4zNhU"
      },
      "source": [
        ""
      ],
      "execution_count": null,
      "outputs": []
    }
  ]
}