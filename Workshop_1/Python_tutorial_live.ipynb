{
  "nbformat": 4,
  "nbformat_minor": 0,
  "metadata": {
    "colab": {
      "name": "Python_tutorial_live.ipynb",
      "provenance": []
    },
    "kernelspec": {
      "name": "python3",
      "display_name": "Python 3"
    },
    "language_info": {
      "name": "python"
    }
  },
  "cells": [
    {
      "cell_type": "markdown",
      "metadata": {
        "id": "qcls7aPoSE3z"
      },
      "source": [
        "# Operators"
      ]
    },
    {
      "cell_type": "code",
      "metadata": {
        "colab": {
          "base_uri": "https://localhost:8080/"
        },
        "id": "9vOwy1iodtOa",
        "outputId": "765c49c6-54bc-41f7-a796-4cf6d9bf5082"
      },
      "source": [
        "5 + 2"
      ],
      "execution_count": 1,
      "outputs": [
        {
          "output_type": "execute_result",
          "data": {
            "text/plain": [
              "7"
            ]
          },
          "metadata": {
            "tags": []
          },
          "execution_count": 1
        }
      ]
    },
    {
      "cell_type": "code",
      "metadata": {
        "colab": {
          "base_uri": "https://localhost:8080/"
        },
        "id": "LbXqjcZnSJ5m",
        "outputId": "ba0643f5-7186-482a-9928-e60b330f8062"
      },
      "source": [
        "5 - 2"
      ],
      "execution_count": 2,
      "outputs": [
        {
          "output_type": "execute_result",
          "data": {
            "text/plain": [
              "3"
            ]
          },
          "metadata": {
            "tags": []
          },
          "execution_count": 2
        }
      ]
    },
    {
      "cell_type": "code",
      "metadata": {
        "colab": {
          "base_uri": "https://localhost:8080/"
        },
        "id": "4ex7S7kkSQSX",
        "outputId": "8e2da56c-0bc9-4787-a692-6b97f1aceeec"
      },
      "source": [
        "5 * 2"
      ],
      "execution_count": 3,
      "outputs": [
        {
          "output_type": "execute_result",
          "data": {
            "text/plain": [
              "10"
            ]
          },
          "metadata": {
            "tags": []
          },
          "execution_count": 3
        }
      ]
    },
    {
      "cell_type": "code",
      "metadata": {
        "colab": {
          "base_uri": "https://localhost:8080/"
        },
        "id": "Ic7ZlQ9mSSw8",
        "outputId": "9c98e33a-cb70-4941-877f-6de34555b4a6"
      },
      "source": [
        "# what is 5/2 in python?\n",
        "5 / 2"
      ],
      "execution_count": 4,
      "outputs": [
        {
          "output_type": "execute_result",
          "data": {
            "text/plain": [
              "2.5"
            ]
          },
          "metadata": {
            "tags": []
          },
          "execution_count": 4
        }
      ]
    },
    {
      "cell_type": "code",
      "metadata": {
        "colab": {
          "base_uri": "https://localhost:8080/"
        },
        "id": "wU5GjwGfSbNv",
        "outputId": "52e0577c-e0cf-4a47-b2f1-a76f447f83b7"
      },
      "source": [
        "# integer division\n",
        "5 // 2"
      ],
      "execution_count": 5,
      "outputs": [
        {
          "output_type": "execute_result",
          "data": {
            "text/plain": [
              "2"
            ]
          },
          "metadata": {
            "tags": []
          },
          "execution_count": 5
        }
      ]
    },
    {
      "cell_type": "code",
      "metadata": {
        "colab": {
          "base_uri": "https://localhost:8080/"
        },
        "id": "1WiZ7x0ZSg33",
        "outputId": "29997915-6ffd-4c93-dba2-7a3927ec9bd6"
      },
      "source": [
        "5 % 2"
      ],
      "execution_count": 6,
      "outputs": [
        {
          "output_type": "execute_result",
          "data": {
            "text/plain": [
              "1"
            ]
          },
          "metadata": {
            "tags": []
          },
          "execution_count": 6
        }
      ]
    },
    {
      "cell_type": "code",
      "metadata": {
        "colab": {
          "base_uri": "https://localhost:8080/"
        },
        "id": "VvASu8TMSovl",
        "outputId": "a960cbdf-ff7b-4b74-d877-789728076bf5"
      },
      "source": [
        "5.0 % 1.5"
      ],
      "execution_count": 7,
      "outputs": [
        {
          "output_type": "execute_result",
          "data": {
            "text/plain": [
              "0.5"
            ]
          },
          "metadata": {
            "tags": []
          },
          "execution_count": 7
        }
      ]
    },
    {
      "cell_type": "code",
      "metadata": {
        "colab": {
          "base_uri": "https://localhost:8080/"
        },
        "id": "y-RqC_fpSs57",
        "outputId": "af93aaee-008d-4353-8315-13c398bab828"
      },
      "source": [
        "5**2"
      ],
      "execution_count": 8,
      "outputs": [
        {
          "output_type": "execute_result",
          "data": {
            "text/plain": [
              "25"
            ]
          },
          "metadata": {
            "tags": []
          },
          "execution_count": 8
        }
      ]
    },
    {
      "cell_type": "markdown",
      "metadata": {
        "id": "UONDG4hvS65Z"
      },
      "source": [
        "# Variables"
      ]
    },
    {
      "cell_type": "code",
      "metadata": {
        "colab": {
          "base_uri": "https://localhost:8080/"
        },
        "id": "kzxIAQ4wTDEK",
        "outputId": "ff702eb3-9c48-41f3-c7e4-d6c6ae7ecac6"
      },
      "source": [
        "x = 2\n",
        "x"
      ],
      "execution_count": 9,
      "outputs": [
        {
          "output_type": "execute_result",
          "data": {
            "text/plain": [
              "2"
            ]
          },
          "metadata": {
            "tags": []
          },
          "execution_count": 9
        }
      ]
    },
    {
      "cell_type": "code",
      "metadata": {
        "colab": {
          "base_uri": "https://localhost:8080/"
        },
        "id": "4YFrGLl0S0vh",
        "outputId": "5b07c4e8-4e05-48ef-fee5-54e6d5c78d2c"
      },
      "source": [
        "# define y in terms of x\n",
        "y = x + 1\n",
        "y"
      ],
      "execution_count": 10,
      "outputs": [
        {
          "output_type": "execute_result",
          "data": {
            "text/plain": [
              "3"
            ]
          },
          "metadata": {
            "tags": []
          },
          "execution_count": 10
        }
      ]
    },
    {
      "cell_type": "code",
      "metadata": {
        "colab": {
          "base_uri": "https://localhost:8080/"
        },
        "id": "X-Cms1l6S896",
        "outputId": "f9db6703-0c2d-4698-80c8-914912ace0d5"
      },
      "source": [
        "# change value of x\n",
        "x = 0\n",
        "y"
      ],
      "execution_count": 11,
      "outputs": [
        {
          "output_type": "execute_result",
          "data": {
            "text/plain": [
              "3"
            ]
          },
          "metadata": {
            "tags": []
          },
          "execution_count": 11
        }
      ]
    },
    {
      "cell_type": "code",
      "metadata": {
        "colab": {
          "base_uri": "https://localhost:8080/"
        },
        "id": "eBKYr8PETTyz",
        "outputId": "09d10825-5fa6-464d-e368-beff5a310448"
      },
      "source": [
        "# Colab Notebooks preserve the state of variables. Try running this cell multiple times.\n",
        "x = x + 1\n",
        "x"
      ],
      "execution_count": 14,
      "outputs": [
        {
          "output_type": "execute_result",
          "data": {
            "text/plain": [
              "3"
            ]
          },
          "metadata": {
            "tags": []
          },
          "execution_count": 14
        }
      ]
    },
    {
      "cell_type": "markdown",
      "metadata": {
        "id": "hyJUqrPYTuid"
      },
      "source": [
        "# Strings"
      ]
    },
    {
      "cell_type": "code",
      "metadata": {
        "colab": {
          "base_uri": "https://localhost:8080/",
          "height": 35
        },
        "id": "JOxwFu27TcZC",
        "outputId": "87e6144e-fd30-4d5b-ad28-bd673315d065"
      },
      "source": [
        "# single quotes\n",
        "string = 'Hello, world'\n",
        "string"
      ],
      "execution_count": 16,
      "outputs": [
        {
          "output_type": "execute_result",
          "data": {
            "application/vnd.google.colaboratory.intrinsic+json": {
              "type": "string"
            },
            "text/plain": [
              "'Hello, world'"
            ]
          },
          "metadata": {
            "tags": []
          },
          "execution_count": 16
        }
      ]
    },
    {
      "cell_type": "code",
      "metadata": {
        "colab": {
          "base_uri": "https://localhost:8080/",
          "height": 35
        },
        "id": "rAqCloO2T0e8",
        "outputId": "d6e00a1b-e708-48c0-8b4a-a6fceb6d6006"
      },
      "source": [
        "# double quotes\n",
        "another_string = \"This works too\"\n",
        "another_string"
      ],
      "execution_count": 17,
      "outputs": [
        {
          "output_type": "execute_result",
          "data": {
            "application/vnd.google.colaboratory.intrinsic+json": {
              "type": "string"
            },
            "text/plain": [
              "'This works too'"
            ]
          },
          "metadata": {
            "tags": []
          },
          "execution_count": 17
        }
      ]
    },
    {
      "cell_type": "code",
      "metadata": {
        "colab": {
          "base_uri": "https://localhost:8080/",
          "height": 35
        },
        "id": "1e1Uli0ET52_",
        "outputId": "b3694ae8-7baf-456a-aa21-aa72feac5bc3"
      },
      "source": [
        "yet_another_string = \"Can't use single quotes\"\n",
        "yet_another_string"
      ],
      "execution_count": 18,
      "outputs": [
        {
          "output_type": "execute_result",
          "data": {
            "application/vnd.google.colaboratory.intrinsic+json": {
              "type": "string"
            },
            "text/plain": [
              "\"Can't use single quotes\""
            ]
          },
          "metadata": {
            "tags": []
          },
          "execution_count": 18
        }
      ]
    },
    {
      "cell_type": "markdown",
      "metadata": {
        "id": "PveBlUYCUW8F"
      },
      "source": [
        "# Print - main way to output data"
      ]
    },
    {
      "cell_type": "code",
      "metadata": {
        "id": "Jl4AJlhrUNsv"
      },
      "source": [
        "num = 17\n",
        "name = 'George'"
      ],
      "execution_count": 21,
      "outputs": []
    },
    {
      "cell_type": "code",
      "metadata": {
        "colab": {
          "base_uri": "https://localhost:8080/"
        },
        "id": "jnNGyE2fUaSs",
        "outputId": "13a662b6-8d4b-4b62-a7d9-106484d8a933"
      },
      "source": [
        "print(name)"
      ],
      "execution_count": 22,
      "outputs": [
        {
          "output_type": "stream",
          "text": [
            "George\n"
          ],
          "name": "stdout"
        }
      ]
    },
    {
      "cell_type": "code",
      "metadata": {
        "colab": {
          "base_uri": "https://localhost:8080/"
        },
        "id": "mh2YR4IwUmZz",
        "outputId": "cff2df73-c04a-4321-b6bd-1ba10050d266"
      },
      "source": [
        "print('My name is', name)"
      ],
      "execution_count": 23,
      "outputs": [
        {
          "output_type": "stream",
          "text": [
            "My name is George\n"
          ],
          "name": "stdout"
        }
      ]
    },
    {
      "cell_type": "code",
      "metadata": {
        "colab": {
          "base_uri": "https://localhost:8080/"
        },
        "id": "bZ7YCAevUrSU",
        "outputId": "1d12c20a-5fb2-4f35-c924-90aa4c3c5617"
      },
      "source": [
        "# f string\n",
        "print(f\"My name is {name} and I'm {num} years old.\")"
      ],
      "execution_count": 24,
      "outputs": [
        {
          "output_type": "stream",
          "text": [
            "My name is George and I'm 17 years old.\n"
          ],
          "name": "stdout"
        }
      ]
    },
    {
      "cell_type": "code",
      "metadata": {
        "colab": {
          "base_uri": "https://localhost:8080/"
        },
        "id": "mcBnO3a7U0JM",
        "outputId": "b10b77f6-f2d8-4249-8346-74b8ae584c52"
      },
      "source": [
        "# same as formatting with str.format\n",
        "print(\"My name is {} and I'm {} years old.\".format(name, num))"
      ],
      "execution_count": 25,
      "outputs": [
        {
          "output_type": "stream",
          "text": [
            "My name is George and I'm 17 years old.\n"
          ],
          "name": "stdout"
        }
      ]
    },
    {
      "cell_type": "code",
      "metadata": {
        "colab": {
          "base_uri": "https://localhost:8080/"
        },
        "id": "P9FB5iTAVAih",
        "outputId": "bb254a1b-1e0f-4136-b237-99731f71ed26"
      },
      "source": [
        "# formatting a float\n",
        "print(\"%.2f\" % 1.955555555)"
      ],
      "execution_count": 26,
      "outputs": [
        {
          "output_type": "stream",
          "text": [
            "1.96\n"
          ],
          "name": "stdout"
        }
      ]
    },
    {
      "cell_type": "markdown",
      "metadata": {
        "id": "-xo7qDjGVL87"
      },
      "source": [
        "# List - containers for data"
      ]
    },
    {
      "cell_type": "code",
      "metadata": {
        "colab": {
          "base_uri": "https://localhost:8080/"
        },
        "id": "xPe2KmO5VGxR",
        "outputId": "85fb3838-e03c-4a24-bdd5-863ded72bf50"
      },
      "source": [
        "my_list = [1,2,3,4,5]\n",
        "my_list"
      ],
      "execution_count": 27,
      "outputs": [
        {
          "output_type": "execute_result",
          "data": {
            "text/plain": [
              "[1, 2, 3, 4, 5]"
            ]
          },
          "metadata": {
            "tags": []
          },
          "execution_count": 27
        }
      ]
    },
    {
      "cell_type": "code",
      "metadata": {
        "colab": {
          "base_uri": "https://localhost:8080/"
        },
        "id": "TOkkYwwhVUdy",
        "outputId": "664b5dad-76cc-4afc-ebc6-f4eba898b2d7"
      },
      "source": [
        "another_list = ['string', 1, True]\n",
        "another_list"
      ],
      "execution_count": 28,
      "outputs": [
        {
          "output_type": "execute_result",
          "data": {
            "text/plain": [
              "['string', 1, True]"
            ]
          },
          "metadata": {
            "tags": []
          },
          "execution_count": 28
        }
      ]
    },
    {
      "cell_type": "code",
      "metadata": {
        "colab": {
          "base_uri": "https://localhost:8080/"
        },
        "id": "ypazMEIxVaTQ",
        "outputId": "235c8c91-bf48-4dbf-8c59-c3fa82c2e029"
      },
      "source": [
        "# nested list\n",
        "numbers = [1,[2,3,4],[5,6,[7,8]]]\n",
        "numbers"
      ],
      "execution_count": 29,
      "outputs": [
        {
          "output_type": "execute_result",
          "data": {
            "text/plain": [
              "[1, [2, 3, 4], [5, 6, [7, 8]]]"
            ]
          },
          "metadata": {
            "tags": []
          },
          "execution_count": 29
        }
      ]
    },
    {
      "cell_type": "code",
      "metadata": {
        "colab": {
          "base_uri": "https://localhost:8080/"
        },
        "id": "T8koVtXuVkxQ",
        "outputId": "d07daf50-c313-4a2f-e33e-9262b9ac22b6"
      },
      "source": [
        "numbers.append(9)\n",
        "numbers"
      ],
      "execution_count": 30,
      "outputs": [
        {
          "output_type": "execute_result",
          "data": {
            "text/plain": [
              "[1, [2, 3, 4], [5, 6, [7, 8]], 9]"
            ]
          },
          "metadata": {
            "tags": []
          },
          "execution_count": 30
        }
      ]
    },
    {
      "cell_type": "code",
      "metadata": {
        "colab": {
          "base_uri": "https://localhost:8080/"
        },
        "id": "u3UI69OfVo2h",
        "outputId": "16a316a4-b001-4dc6-8d65-5964ad9ff3f3"
      },
      "source": [
        "# indexing begins at 0\n",
        "numbers[0]"
      ],
      "execution_count": 31,
      "outputs": [
        {
          "output_type": "execute_result",
          "data": {
            "text/plain": [
              "1"
            ]
          },
          "metadata": {
            "tags": []
          },
          "execution_count": 31
        }
      ]
    },
    {
      "cell_type": "code",
      "metadata": {
        "colab": {
          "base_uri": "https://localhost:8080/"
        },
        "id": "bb9HC6jUVs4v",
        "outputId": "2e40286d-a22e-4a55-a033-915aeaed107d"
      },
      "source": [
        "numbers[1]"
      ],
      "execution_count": 32,
      "outputs": [
        {
          "output_type": "execute_result",
          "data": {
            "text/plain": [
              "[2, 3, 4]"
            ]
          },
          "metadata": {
            "tags": []
          },
          "execution_count": 32
        }
      ]
    },
    {
      "cell_type": "code",
      "metadata": {
        "colab": {
          "base_uri": "https://localhost:8080/"
        },
        "id": "UtIDXJ5WVv7x",
        "outputId": "cd601d39-a926-4d2d-ad3d-b015dfe36f4d"
      },
      "source": [
        "numbers[2][2][0]  # prints 7"
      ],
      "execution_count": 33,
      "outputs": [
        {
          "output_type": "execute_result",
          "data": {
            "text/plain": [
              "7"
            ]
          },
          "metadata": {
            "tags": []
          },
          "execution_count": 33
        }
      ]
    },
    {
      "cell_type": "code",
      "metadata": {
        "id": "fW9GsUHlV_fn"
      },
      "source": [
        "# list slicing\n",
        "my_list = [1,2,3,4,5]"
      ],
      "execution_count": 34,
      "outputs": []
    },
    {
      "cell_type": "code",
      "metadata": {
        "colab": {
          "base_uri": "https://localhost:8080/"
        },
        "id": "rOunSZFaWOlI",
        "outputId": "16468d41-27a6-4d91-fff5-b5899076fa90"
      },
      "source": [
        "# list[start_index(inclusive): end_index(not inclusive)]\n",
        "my_list[1:4]"
      ],
      "execution_count": 35,
      "outputs": [
        {
          "output_type": "execute_result",
          "data": {
            "text/plain": [
              "[2, 3, 4]"
            ]
          },
          "metadata": {
            "tags": []
          },
          "execution_count": 35
        }
      ]
    },
    {
      "cell_type": "code",
      "metadata": {
        "colab": {
          "base_uri": "https://localhost:8080/"
        },
        "id": "6tdJIEx_WRnh",
        "outputId": "e9b15e22-b389-4fb5-ef40-24882a9341f3"
      },
      "source": [
        "my_list[3:]"
      ],
      "execution_count": 38,
      "outputs": [
        {
          "output_type": "execute_result",
          "data": {
            "text/plain": [
              "[4, 5]"
            ]
          },
          "metadata": {
            "tags": []
          },
          "execution_count": 38
        }
      ]
    },
    {
      "cell_type": "code",
      "metadata": {
        "colab": {
          "base_uri": "https://localhost:8080/"
        },
        "id": "ilE_uZUwWWBq",
        "outputId": "f3be5b62-6ece-46df-bb40-de0fc5e01ee9"
      },
      "source": [
        "my_list[:3]"
      ],
      "execution_count": 39,
      "outputs": [
        {
          "output_type": "execute_result",
          "data": {
            "text/plain": [
              "[1, 2, 3]"
            ]
          },
          "metadata": {
            "tags": []
          },
          "execution_count": 39
        }
      ]
    },
    {
      "cell_type": "code",
      "metadata": {
        "colab": {
          "base_uri": "https://localhost:8080/"
        },
        "id": "ILAZvxt-Wn3f",
        "outputId": "9241772c-3dd0-43a6-89b8-57a1359817da"
      },
      "source": [
        "my_list[-1]"
      ],
      "execution_count": 40,
      "outputs": [
        {
          "output_type": "execute_result",
          "data": {
            "text/plain": [
              "5"
            ]
          },
          "metadata": {
            "tags": []
          },
          "execution_count": 40
        }
      ]
    },
    {
      "cell_type": "code",
      "metadata": {
        "colab": {
          "base_uri": "https://localhost:8080/"
        },
        "id": "aoRntONyWq0g",
        "outputId": "d0b0ac46-f753-47e4-bb07-7b89f74738a4"
      },
      "source": [
        "my_list[:-1]"
      ],
      "execution_count": 41,
      "outputs": [
        {
          "output_type": "execute_result",
          "data": {
            "text/plain": [
              "[1, 2, 3, 4]"
            ]
          },
          "metadata": {
            "tags": []
          },
          "execution_count": 41
        }
      ]
    },
    {
      "cell_type": "code",
      "metadata": {
        "colab": {
          "base_uri": "https://localhost:8080/"
        },
        "id": "T7en3vMtWvKS",
        "outputId": "facaa43e-c123-4d4e-b9ff-2ab73c9cc5c6"
      },
      "source": [
        "numbers[0] = 'one'\n",
        "numbers"
      ],
      "execution_count": 42,
      "outputs": [
        {
          "output_type": "execute_result",
          "data": {
            "text/plain": [
              "['one', [2, 3, 4], [5, 6, [7, 8]], 9]"
            ]
          },
          "metadata": {
            "tags": []
          },
          "execution_count": 42
        }
      ]
    },
    {
      "cell_type": "markdown",
      "metadata": {
        "id": "F2xH9WYkW7k2"
      },
      "source": [
        "# Dictionaries - hold key value pairs"
      ]
    },
    {
      "cell_type": "code",
      "metadata": {
        "colab": {
          "base_uri": "https://localhost:8080/"
        },
        "id": "HhaCn_oVW37w",
        "outputId": "9bb2f191-0108-4274-f243-c6829b09bd78"
      },
      "source": [
        "my_dict = {'apple': 1, 'banana': 2, 'orange': 3}\n",
        "my_dict"
      ],
      "execution_count": 43,
      "outputs": [
        {
          "output_type": "execute_result",
          "data": {
            "text/plain": [
              "{'apple': 1, 'banana': 2, 'orange': 3}"
            ]
          },
          "metadata": {
            "tags": []
          },
          "execution_count": 43
        }
      ]
    },
    {
      "cell_type": "code",
      "metadata": {
        "colab": {
          "base_uri": "https://localhost:8080/"
        },
        "id": "51Drh5YwXFtU",
        "outputId": "89118d02-ae51-4fb3-b7f6-896b56773a4c"
      },
      "source": [
        "my_dict['banana']"
      ],
      "execution_count": 44,
      "outputs": [
        {
          "output_type": "execute_result",
          "data": {
            "text/plain": [
              "2"
            ]
          },
          "metadata": {
            "tags": []
          },
          "execution_count": 44
        }
      ]
    },
    {
      "cell_type": "code",
      "metadata": {
        "colab": {
          "base_uri": "https://localhost:8080/"
        },
        "id": "RhIfz55XXI89",
        "outputId": "fd9f8d31-bcfe-4b1b-cab0-5d4116a42b02"
      },
      "source": [
        "my_dict['apple'] = 'one'\n",
        "my_dict"
      ],
      "execution_count": 45,
      "outputs": [
        {
          "output_type": "execute_result",
          "data": {
            "text/plain": [
              "{'apple': 'one', 'banana': 2, 'orange': 3}"
            ]
          },
          "metadata": {
            "tags": []
          },
          "execution_count": 45
        }
      ]
    },
    {
      "cell_type": "code",
      "metadata": {
        "colab": {
          "base_uri": "https://localhost:8080/"
        },
        "id": "l5FW4MedXPBw",
        "outputId": "924d09ba-c906-4b9d-faa8-d3645e984a92"
      },
      "source": [
        "# return all keys\n",
        "my_dict.keys()"
      ],
      "execution_count": 46,
      "outputs": [
        {
          "output_type": "execute_result",
          "data": {
            "text/plain": [
              "dict_keys(['apple', 'banana', 'orange'])"
            ]
          },
          "metadata": {
            "tags": []
          },
          "execution_count": 46
        }
      ]
    },
    {
      "cell_type": "code",
      "metadata": {
        "colab": {
          "base_uri": "https://localhost:8080/"
        },
        "id": "n0cl506fXWRb",
        "outputId": "dfc30699-9169-43f6-cddc-a9816c7bded3"
      },
      "source": [
        "# return all key value pairs\n",
        "my_dict.items()"
      ],
      "execution_count": 47,
      "outputs": [
        {
          "output_type": "execute_result",
          "data": {
            "text/plain": [
              "dict_items([('apple', 'one'), ('banana', 2), ('orange', 3)])"
            ]
          },
          "metadata": {
            "tags": []
          },
          "execution_count": 47
        }
      ]
    },
    {
      "cell_type": "code",
      "metadata": {
        "id": "GP2R3dwmXbf0"
      },
      "source": [
        "my_dict = {2: 1, 3: 2, 1: 3}"
      ],
      "execution_count": 48,
      "outputs": []
    },
    {
      "cell_type": "code",
      "metadata": {
        "colab": {
          "base_uri": "https://localhost:8080/"
        },
        "id": "mQcQA6biXocb",
        "outputId": "148a3456-1a55-4acc-f54f-061b15898543"
      },
      "source": [
        "my_dict"
      ],
      "execution_count": 49,
      "outputs": [
        {
          "output_type": "execute_result",
          "data": {
            "text/plain": [
              "{1: 3, 2: 1, 3: 2}"
            ]
          },
          "metadata": {
            "tags": []
          },
          "execution_count": 49
        }
      ]
    },
    {
      "cell_type": "markdown",
      "metadata": {
        "id": "EPBPgPJtX7lB"
      },
      "source": [
        "# Comparison Operators"
      ]
    },
    {
      "cell_type": "code",
      "metadata": {
        "colab": {
          "base_uri": "https://localhost:8080/"
        },
        "id": "v68e60lUXp0S",
        "outputId": "a697c434-1512-4579-a6a5-26fbdd8f1cde"
      },
      "source": [
        "5 > 6"
      ],
      "execution_count": 50,
      "outputs": [
        {
          "output_type": "execute_result",
          "data": {
            "text/plain": [
              "False"
            ]
          },
          "metadata": {
            "tags": []
          },
          "execution_count": 50
        }
      ]
    },
    {
      "cell_type": "code",
      "metadata": {
        "colab": {
          "base_uri": "https://localhost:8080/"
        },
        "id": "laC1QLCgYCbp",
        "outputId": "181a5741-12c5-487b-ce99-b1372876ebe2"
      },
      "source": [
        "5 < 6"
      ],
      "execution_count": 51,
      "outputs": [
        {
          "output_type": "execute_result",
          "data": {
            "text/plain": [
              "True"
            ]
          },
          "metadata": {
            "tags": []
          },
          "execution_count": 51
        }
      ]
    },
    {
      "cell_type": "code",
      "metadata": {
        "colab": {
          "base_uri": "https://localhost:8080/"
        },
        "id": "DJTPyrurYHH_",
        "outputId": "f1f32673-ef20-4c04-f5a3-cf233d0e0523"
      },
      "source": [
        "5 <= 6"
      ],
      "execution_count": 52,
      "outputs": [
        {
          "output_type": "execute_result",
          "data": {
            "text/plain": [
              "True"
            ]
          },
          "metadata": {
            "tags": []
          },
          "execution_count": 52
        }
      ]
    },
    {
      "cell_type": "code",
      "metadata": {
        "colab": {
          "base_uri": "https://localhost:8080/"
        },
        "id": "jbjVS3xcYKxg",
        "outputId": "97320468-fb27-4e14-99a1-84aba4dc02f8"
      },
      "source": [
        "6 >= 6"
      ],
      "execution_count": 53,
      "outputs": [
        {
          "output_type": "execute_result",
          "data": {
            "text/plain": [
              "True"
            ]
          },
          "metadata": {
            "tags": []
          },
          "execution_count": 53
        }
      ]
    },
    {
      "cell_type": "code",
      "metadata": {
        "colab": {
          "base_uri": "https://localhost:8080/"
        },
        "id": "mFQxqk0rYO0h",
        "outputId": "cfda8db6-68ee-4fb2-a3b8-91d84fa223f0"
      },
      "source": [
        "5 == 6"
      ],
      "execution_count": 54,
      "outputs": [
        {
          "output_type": "execute_result",
          "data": {
            "text/plain": [
              "False"
            ]
          },
          "metadata": {
            "tags": []
          },
          "execution_count": 54
        }
      ]
    },
    {
      "cell_type": "code",
      "metadata": {
        "colab": {
          "base_uri": "https://localhost:8080/"
        },
        "id": "nafnbMaHYWW0",
        "outputId": "61176d94-9d51-40b1-c3ab-de6a1e8c75aa"
      },
      "source": [
        "'not' != 'equal'"
      ],
      "execution_count": 55,
      "outputs": [
        {
          "output_type": "execute_result",
          "data": {
            "text/plain": [
              "True"
            ]
          },
          "metadata": {
            "tags": []
          },
          "execution_count": 55
        }
      ]
    },
    {
      "cell_type": "markdown",
      "metadata": {
        "id": "etiBFumhYiDa"
      },
      "source": [
        "# Logical Operators"
      ]
    },
    {
      "cell_type": "code",
      "metadata": {
        "colab": {
          "base_uri": "https://localhost:8080/"
        },
        "id": "qJnlCFn_Yc6Q",
        "outputId": "ce4a1f86-e23c-4044-e845-c45db104c350"
      },
      "source": [
        "(1 > 2) and (3 > 2)"
      ],
      "execution_count": 56,
      "outputs": [
        {
          "output_type": "execute_result",
          "data": {
            "text/plain": [
              "False"
            ]
          },
          "metadata": {
            "tags": []
          },
          "execution_count": 56
        }
      ]
    },
    {
      "cell_type": "code",
      "metadata": {
        "colab": {
          "base_uri": "https://localhost:8080/"
        },
        "id": "pfZzdr6FYtqq",
        "outputId": "23502eee-410c-4f10-8bfb-037b6e9cf1de"
      },
      "source": [
        "(1 > 2) or (3 > 2)"
      ],
      "execution_count": 57,
      "outputs": [
        {
          "output_type": "execute_result",
          "data": {
            "text/plain": [
              "True"
            ]
          },
          "metadata": {
            "tags": []
          },
          "execution_count": 57
        }
      ]
    },
    {
      "cell_type": "code",
      "metadata": {
        "colab": {
          "base_uri": "https://localhost:8080/"
        },
        "id": "CULYHlduY1p9",
        "outputId": "217f5781-6a07-44e6-a00e-ce6c11bbcf9a"
      },
      "source": [
        "not (5 != 6)"
      ],
      "execution_count": 59,
      "outputs": [
        {
          "output_type": "execute_result",
          "data": {
            "text/plain": [
              "False"
            ]
          },
          "metadata": {
            "tags": []
          },
          "execution_count": 59
        }
      ]
    },
    {
      "cell_type": "markdown",
      "metadata": {
        "id": "vZiTjL6jZN2_"
      },
      "source": [
        "# if, else statements"
      ]
    },
    {
      "cell_type": "code",
      "metadata": {
        "id": "-X5VWf1CY7v0"
      },
      "source": [
        "# if (condition):\n",
        "if (2 < 1):\n",
        "  print('2 > 1')"
      ],
      "execution_count": 61,
      "outputs": []
    },
    {
      "cell_type": "code",
      "metadata": {
        "colab": {
          "base_uri": "https://localhost:8080/"
        },
        "id": "fVaPGYecZbIU",
        "outputId": "cd6fc839-5fd9-4a2d-f070-acbb0abbddc4"
      },
      "source": [
        "if 2 < 1:\n",
        "  print('2 < 1')\n",
        "elif 2 == 1:\n",
        "  print('2 == 1')\n",
        "else:\n",
        "  print('2 > 1')"
      ],
      "execution_count": 63,
      "outputs": [
        {
          "output_type": "stream",
          "text": [
            "2 > 1\n"
          ],
          "name": "stdout"
        }
      ]
    },
    {
      "cell_type": "code",
      "metadata": {
        "colab": {
          "base_uri": "https://localhost:8080/"
        },
        "id": "cl5VbJfIZqQH",
        "outputId": "f2e77715-012e-47dd-befa-3ec682f6735e"
      },
      "source": [
        "number = 100\n",
        "\n",
        "if number > 90 or number < 0:\n",
        "  print('A')\n",
        "elif number == 100 or number >= 120:\n",
        "  print('B')\n",
        "if number > 0 and number < 200:\n",
        "  print('C')\n",
        "print('D')\n",
        "\n",
        "# what do you think the output is?"
      ],
      "execution_count": 64,
      "outputs": [
        {
          "output_type": "stream",
          "text": [
            "A\n",
            "C\n",
            "D\n"
          ],
          "name": "stdout"
        }
      ]
    },
    {
      "cell_type": "markdown",
      "metadata": {
        "id": "LgS8_uKdaZpl"
      },
      "source": [
        "# For Loops"
      ]
    },
    {
      "cell_type": "code",
      "metadata": {
        "colab": {
          "base_uri": "https://localhost:8080/"
        },
        "id": "FvghqJogaFE2",
        "outputId": "ad014c8f-eb6b-4598-9f49-db8063c4afeb"
      },
      "source": [
        "my_list = [1,2,3,4,5]\n",
        "\n",
        "10 in my_list"
      ],
      "execution_count": 65,
      "outputs": [
        {
          "output_type": "execute_result",
          "data": {
            "text/plain": [
              "False"
            ]
          },
          "metadata": {
            "tags": []
          },
          "execution_count": 65
        }
      ]
    },
    {
      "cell_type": "code",
      "metadata": {
        "colab": {
          "base_uri": "https://localhost:8080/"
        },
        "id": "8eHP8Rcgag8h",
        "outputId": "3d70502f-c48d-4f42-87f4-4e26135c5285"
      },
      "source": [
        "4 in my_list"
      ],
      "execution_count": 66,
      "outputs": [
        {
          "output_type": "execute_result",
          "data": {
            "text/plain": [
              "True"
            ]
          },
          "metadata": {
            "tags": []
          },
          "execution_count": 66
        }
      ]
    },
    {
      "cell_type": "code",
      "metadata": {
        "colab": {
          "base_uri": "https://localhost:8080/"
        },
        "id": "ahnN0wDvajJ0",
        "outputId": "b70e2ee0-0b57-4f43-c4d6-a94aad397532"
      },
      "source": [
        "for i in my_list:\n",
        "  print(i)"
      ],
      "execution_count": 67,
      "outputs": [
        {
          "output_type": "stream",
          "text": [
            "1\n",
            "2\n",
            "3\n",
            "4\n",
            "5\n"
          ],
          "name": "stdout"
        }
      ]
    },
    {
      "cell_type": "code",
      "metadata": {
        "colab": {
          "base_uri": "https://localhost:8080/"
        },
        "id": "1HhtZPJ6aoWW",
        "outputId": "38ec2cb2-de8e-48b4-add1-a95632a0dc61"
      },
      "source": [
        "# range(end_index(not inclusive))\n",
        "for i in range(10):\n",
        "  print(i)"
      ],
      "execution_count": 68,
      "outputs": [
        {
          "output_type": "stream",
          "text": [
            "0\n",
            "1\n",
            "2\n",
            "3\n",
            "4\n",
            "5\n",
            "6\n",
            "7\n",
            "8\n",
            "9\n"
          ],
          "name": "stdout"
        }
      ]
    },
    {
      "cell_type": "code",
      "metadata": {
        "colab": {
          "base_uri": "https://localhost:8080/"
        },
        "id": "YUeR7KO6auRd",
        "outputId": "a47f15ee-2d8e-49d2-94a9-6f4291652aa7"
      },
      "source": [
        "# range(start_index(inclusive), end_index(not inclusive))\n",
        "for i in range(3, 8):\n",
        "  print(i)"
      ],
      "execution_count": 69,
      "outputs": [
        {
          "output_type": "stream",
          "text": [
            "3\n",
            "4\n",
            "5\n",
            "6\n",
            "7\n"
          ],
          "name": "stdout"
        }
      ]
    },
    {
      "cell_type": "code",
      "metadata": {
        "colab": {
          "base_uri": "https://localhost:8080/"
        },
        "id": "tKnQP_CLa6jK",
        "outputId": "a17c036d-0a43-4f57-f91f-267f6e538710"
      },
      "source": [
        "# range(start_index(inclusive), end_index(not inclusive), step_size)\n",
        "for i in range(4, 10, 2):\n",
        "  print(i)"
      ],
      "execution_count": 70,
      "outputs": [
        {
          "output_type": "stream",
          "text": [
            "4\n",
            "6\n",
            "8\n"
          ],
          "name": "stdout"
        }
      ]
    },
    {
      "cell_type": "code",
      "metadata": {
        "colab": {
          "base_uri": "https://localhost:8080/"
        },
        "id": "usG-iMXFbBiu",
        "outputId": "dff6c96d-275f-4b21-a489-87efb77a8ff2"
      },
      "source": [
        "# iterate backwards\n",
        "for i in range(10, 1, -1):\n",
        "  print(i)"
      ],
      "execution_count": 71,
      "outputs": [
        {
          "output_type": "stream",
          "text": [
            "10\n",
            "9\n",
            "8\n",
            "7\n",
            "6\n",
            "5\n",
            "4\n",
            "3\n",
            "2\n"
          ],
          "name": "stdout"
        }
      ]
    },
    {
      "cell_type": "markdown",
      "metadata": {
        "id": "dSfuhTodbWN6"
      },
      "source": [
        "# While Loops"
      ]
    },
    {
      "cell_type": "code",
      "metadata": {
        "colab": {
          "base_uri": "https://localhost:8080/"
        },
        "id": "kjdeMsY4bMU1",
        "outputId": "ef5f6f8d-875b-4a16-8cb9-0f2a9854d9fc"
      },
      "source": [
        "# while (condition):\n",
        "\n",
        "count = 1\n",
        "\n",
        "while count <= 10:\n",
        "  print(count)\n",
        "  count += 1\n",
        "  # count = count + 1\n",
        "  # count++"
      ],
      "execution_count": 72,
      "outputs": [
        {
          "output_type": "stream",
          "text": [
            "1\n",
            "2\n",
            "3\n",
            "4\n",
            "5\n",
            "6\n",
            "7\n",
            "8\n",
            "9\n",
            "10\n"
          ],
          "name": "stdout"
        }
      ]
    },
    {
      "cell_type": "markdown",
      "metadata": {
        "id": "HMcHYf4Vbx7G"
      },
      "source": [
        "# List Comprehension"
      ]
    },
    {
      "cell_type": "code",
      "metadata": {
        "colab": {
          "base_uri": "https://localhost:8080/"
        },
        "id": "wA9yBVyIbpUJ",
        "outputId": "08da07e3-6a88-4103-bb8e-491c8e3408cd"
      },
      "source": [
        "old_list = [2,4,6,8]\n",
        "new_list = [i-1 for i in old_list]\n",
        "new_list"
      ],
      "execution_count": 73,
      "outputs": [
        {
          "output_type": "execute_result",
          "data": {
            "text/plain": [
              "[1, 3, 5, 7]"
            ]
          },
          "metadata": {
            "tags": []
          },
          "execution_count": 73
        }
      ]
    },
    {
      "cell_type": "code",
      "metadata": {
        "colab": {
          "base_uri": "https://localhost:8080/"
        },
        "id": "Hm_JBRm1cCnx",
        "outputId": "9dea4321-5f49-440b-b3f4-c3f5ffd1deb9"
      },
      "source": [
        "# this is same as\n",
        "new_list = []\n",
        "for i in old_list:\n",
        "  new_list.append(i-1)\n",
        "new_list"
      ],
      "execution_count": 74,
      "outputs": [
        {
          "output_type": "execute_result",
          "data": {
            "text/plain": [
              "[1, 3, 5, 7]"
            ]
          },
          "metadata": {
            "tags": []
          },
          "execution_count": 74
        }
      ]
    },
    {
      "cell_type": "code",
      "metadata": {
        "colab": {
          "base_uri": "https://localhost:8080/"
        },
        "id": "7usINuzlcQzu",
        "outputId": "ef2edc93-19c1-45e4-f1ee-9efd929ac402"
      },
      "source": [
        "input_arr = range(5)\n",
        "output_arr = [2**i for i in input_arr]\n",
        "output_arr  # what is the output?"
      ],
      "execution_count": 75,
      "outputs": [
        {
          "output_type": "execute_result",
          "data": {
            "text/plain": [
              "[1, 2, 4, 8, 16]"
            ]
          },
          "metadata": {
            "tags": []
          },
          "execution_count": 75
        }
      ]
    },
    {
      "cell_type": "code",
      "metadata": {
        "colab": {
          "base_uri": "https://localhost:8080/"
        },
        "id": "D2mLtD6heBOK",
        "outputId": "b7a12e8f-6f97-496e-8212-c3f483e5e772"
      },
      "source": [
        "# this is same as\n",
        "input_arr = range(5)\n",
        "output_arr = []\n",
        "for i in input_arr:\n",
        "  output_arr.append(2**i)\n",
        "output_arr"
      ],
      "execution_count": 85,
      "outputs": [
        {
          "output_type": "execute_result",
          "data": {
            "text/plain": [
              "[1, 2, 4, 8, 16]"
            ]
          },
          "metadata": {
            "tags": []
          },
          "execution_count": 85
        }
      ]
    },
    {
      "cell_type": "markdown",
      "metadata": {
        "id": "JHqyvNt6c0ZE"
      },
      "source": [
        "# Functions"
      ]
    },
    {
      "cell_type": "code",
      "metadata": {
        "id": "qWGTKo_rcoxg"
      },
      "source": [
        "def triple(val):\n",
        "  return 3*val"
      ],
      "execution_count": 77,
      "outputs": []
    },
    {
      "cell_type": "code",
      "metadata": {
        "colab": {
          "base_uri": "https://localhost:8080/"
        },
        "id": "1dkFSOV2crDd",
        "outputId": "a2204db1-47c7-4eb9-d791-b5943a029111"
      },
      "source": [
        "triple(5)"
      ],
      "execution_count": 78,
      "outputs": [
        {
          "output_type": "execute_result",
          "data": {
            "text/plain": [
              "15"
            ]
          },
          "metadata": {
            "tags": []
          },
          "execution_count": 78
        }
      ]
    },
    {
      "cell_type": "code",
      "metadata": {
        "id": "GNBjLdcfc8S5"
      },
      "source": [
        "def power(power, base=2):\n",
        "  return base**power"
      ],
      "execution_count": 79,
      "outputs": []
    },
    {
      "cell_type": "code",
      "metadata": {
        "colab": {
          "base_uri": "https://localhost:8080/"
        },
        "id": "IzoXpFxidCvE",
        "outputId": "153f401b-64bc-4255-fb1b-83a76e932fc2"
      },
      "source": [
        "power(3) # 2^3"
      ],
      "execution_count": 80,
      "outputs": [
        {
          "output_type": "execute_result",
          "data": {
            "text/plain": [
              "8"
            ]
          },
          "metadata": {
            "tags": []
          },
          "execution_count": 80
        }
      ]
    },
    {
      "cell_type": "code",
      "metadata": {
        "colab": {
          "base_uri": "https://localhost:8080/"
        },
        "id": "lNlmTeS5dEHG",
        "outputId": "23adbd4c-7fe2-4944-e3bd-ae73d58efbea"
      },
      "source": [
        "# pass in param by name\n",
        "power(power=3)"
      ],
      "execution_count": 81,
      "outputs": [
        {
          "output_type": "execute_result",
          "data": {
            "text/plain": [
              "8"
            ]
          },
          "metadata": {
            "tags": []
          },
          "execution_count": 81
        }
      ]
    },
    {
      "cell_type": "code",
      "metadata": {
        "id": "YqutsaU1dKMa"
      },
      "source": [
        "# nested function\n",
        "def foo():\n",
        "  def bar():\n",
        "    print('bar')\n",
        "  \n",
        "  bar()\n",
        "  print('foo')"
      ],
      "execution_count": 82,
      "outputs": []
    },
    {
      "cell_type": "code",
      "metadata": {
        "colab": {
          "base_uri": "https://localhost:8080/"
        },
        "id": "hd_1pFBjdavV",
        "outputId": "17687eb5-b393-4389-d9c0-4257d2790dc5"
      },
      "source": [
        "foo() # what is the output?"
      ],
      "execution_count": 83,
      "outputs": [
        {
          "output_type": "stream",
          "text": [
            "bar\n",
            "foo\n"
          ],
          "name": "stdout"
        }
      ]
    },
    {
      "cell_type": "code",
      "metadata": {
        "colab": {
          "base_uri": "https://localhost:8080/",
          "height": 164
        },
        "id": "dX4gQbijdjyV",
        "outputId": "30a92ca1-2cbf-4e31-ddce-0c2437ae18f3"
      },
      "source": [
        "# out of scope\n",
        "bar() # what is going to happen?"
      ],
      "execution_count": 84,
      "outputs": [
        {
          "output_type": "error",
          "ename": "NameError",
          "evalue": "ignored",
          "traceback": [
            "\u001b[0;31m---------------------------------------------------------------------------\u001b[0m",
            "\u001b[0;31mNameError\u001b[0m                                 Traceback (most recent call last)",
            "\u001b[0;32m<ipython-input-84-45c1be0d8880>\u001b[0m in \u001b[0;36m<module>\u001b[0;34m()\u001b[0m\n\u001b[0;32m----> 1\u001b[0;31m \u001b[0mbar\u001b[0m\u001b[0;34m(\u001b[0m\u001b[0;34m)\u001b[0m \u001b[0;31m# what is going to happen?\u001b[0m\u001b[0;34m\u001b[0m\u001b[0;34m\u001b[0m\u001b[0m\n\u001b[0m",
            "\u001b[0;31mNameError\u001b[0m: name 'bar' is not defined"
          ]
        }
      ]
    },
    {
      "cell_type": "code",
      "metadata": {
        "id": "1FjO5V8Vdt5V"
      },
      "source": [
        ""
      ],
      "execution_count": null,
      "outputs": []
    }
  ]
}