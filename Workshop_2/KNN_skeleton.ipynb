{
  "nbformat": 4,
  "nbformat_minor": 0,
  "metadata": {
    "colab": {
      "name": "KNN_skeleton.ipynb",
      "provenance": [],
      "collapsed_sections": []
    },
    "kernelspec": {
      "name": "python3",
      "display_name": "Python 3"
    },
    "language_info": {
      "name": "python"
    }
  },
  "cells": [
    {
      "cell_type": "code",
      "metadata": {
        "id": "5UqG_1_x7K8r"
      },
      "source": [
        "# import\n",
        "import numpy as np\n",
        "import matplotlib.pyplot as plt\n",
        "from sklearn.neighbors import KNeighborsClassifier\n",
        "from sklearn.model_selection import train_test_split\n",
        "from sklearn.datasets import load_iris"
      ],
      "execution_count": null,
      "outputs": []
    },
    {
      "cell_type": "code",
      "metadata": {
        "id": "URpaOLlN78qZ"
      },
      "source": [
        "# TO DO: load iris dataset with load_iris - 1 line\n",
        "iris_data = None"
      ],
      "execution_count": null,
      "outputs": []
    },
    {
      "cell_type": "code",
      "metadata": {
        "id": "a6Uvq4rv-eCF"
      },
      "source": [
        "# documentation\n",
        "print(iris_data.DESCR)"
      ],
      "execution_count": null,
      "outputs": []
    },
    {
      "cell_type": "code",
      "metadata": {
        "id": "0um__UcQ8N61"
      },
      "source": [
        "# feature names\n",
        "print(iris_data.feature_names)"
      ],
      "execution_count": null,
      "outputs": []
    },
    {
      "cell_type": "code",
      "metadata": {
        "id": "j1TpcGw7bPju"
      },
      "source": [
        "# target names\n",
        "print(iris_data.target_names)"
      ],
      "execution_count": null,
      "outputs": []
    },
    {
      "cell_type": "code",
      "metadata": {
        "id": "6Y41iRD_8OoC"
      },
      "source": [
        "# TO DO: assign the features to X and the targets to y - 2 lines\n",
        "X = None\n",
        "y = None"
      ],
      "execution_count": null,
      "outputs": []
    },
    {
      "cell_type": "code",
      "metadata": {
        "id": "5dWy68H08V4s"
      },
      "source": [
        "# TO DO: split train and test data with train_test_split - 1 line\n",
        "X_train, X_test, y_train, y_test = None"
      ],
      "execution_count": null,
      "outputs": []
    },
    {
      "cell_type": "code",
      "metadata": {
        "id": "8kdPQhEK_2s8"
      },
      "source": [
        "# plot train data\n",
        "y0 = (y_train == 0)\n",
        "y1 = (y_train == 1)\n",
        "y2 = (y_train == 2)\n",
        "\n",
        "# visualize the first 2 features\n",
        "plt.figure(figsize=[8, 6])\n",
        "plt.xlabel('sepal length (cm)')\n",
        "plt.ylabel('sepal width (cm)')\n",
        "plt.scatter(X_train[y0, 0], X_train[y0, 1], c='b', label='Iris-Setosa')\n",
        "plt.scatter(X_train[y1, 0], X_train[y1, 1], c='g', label='Iris-Versicolour')\n",
        "plt.scatter(X_train[y2, 0], X_train[y2, 1], c='r', label='Iris-Virginica')\n",
        "plt.legend()"
      ],
      "execution_count": null,
      "outputs": []
    },
    {
      "cell_type": "code",
      "metadata": {
        "id": "Un39g4GIBT6e"
      },
      "source": [
        "# TO DO: create a KNN model - 1 line\n",
        "knn = None"
      ],
      "execution_count": null,
      "outputs": []
    },
    {
      "cell_type": "code",
      "metadata": {
        "id": "s92c9uSbcFcV"
      },
      "source": [
        "# TO DO: fit the KNN model to the train data - 1 line\n"
      ],
      "execution_count": null,
      "outputs": []
    },
    {
      "cell_type": "code",
      "metadata": {
        "id": "yTQD59DXcPyE"
      },
      "source": [
        "# TO DO: make predictions on the test data - 1 line\n",
        "y_pred = None"
      ],
      "execution_count": null,
      "outputs": []
    },
    {
      "cell_type": "code",
      "metadata": {
        "id": "nHCpU5Dkcj-G"
      },
      "source": [
        "# accuracy of the KNN model\n",
        "accuracy = (y_test == y_pred).sum()/y_test.shape[0]\n",
        "print('Accuracy:', accuracy)"
      ],
      "execution_count": null,
      "outputs": []
    },
    {
      "cell_type": "code",
      "metadata": {
        "id": "TClpEyVvc87E"
      },
      "source": [
        "# TO DO: can you find the best k(s) for this dataset?\n",
        "# Feel free to solve this problem with brute force\n",
        "accuracies = []\n",
        "\n",
        "print('Best k:', np.array(accuracies).argmax())"
      ],
      "execution_count": null,
      "outputs": []
    },
    {
      "cell_type": "code",
      "metadata": {
        "id": "2A-KzTaRenRo"
      },
      "source": [
        "# plot k vs accuracy\n",
        "plt.figure(figsize=[8, 6])\n",
        "plt.xlabel('k')\n",
        "plt.ylabel('accuracy')\n",
        "plt.plot(np.arange(1, 20), accuracies)"
      ],
      "execution_count": null,
      "outputs": []
    },
    {
      "cell_type": "code",
      "metadata": {
        "id": "ZhZvYumai12b"
      },
      "source": [
        ""
      ],
      "execution_count": null,
      "outputs": []
    }
  ]
}