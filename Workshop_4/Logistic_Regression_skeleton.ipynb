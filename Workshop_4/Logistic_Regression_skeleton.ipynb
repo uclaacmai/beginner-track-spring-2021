{
  "nbformat": 4,
  "nbformat_minor": 0,
  "metadata": {
    "colab": {
      "name": "Logistic_Regression_skeleton.ipynb",
      "provenance": [],
      "collapsed_sections": []
    },
    "kernelspec": {
      "name": "python3",
      "display_name": "Python 3"
    },
    "language_info": {
      "name": "python"
    }
  },
  "cells": [
    {
      "cell_type": "code",
      "metadata": {
        "id": "YHqbCR6H0Fb7"
      },
      "source": [
        "import numpy as np\n",
        "import matplotlib.pyplot as plt\n",
        "from sklearn.model_selection import train_test_split\n",
        "from sklearn.linear_model import LogisticRegression\n",
        "from sklearn.datasets import load_iris"
      ],
      "execution_count": null,
      "outputs": []
    },
    {
      "cell_type": "code",
      "metadata": {
        "id": "NZlxk6Zx0hIa"
      },
      "source": [
        "# TO DO: load the iris dataset - 1 line\n",
        "# Hint: set return_X_y to True\n",
        "# https://scikit-learn.org/stable/modules/generated/sklearn.datasets.load_iris.html\n",
        "X, y = None"
      ],
      "execution_count": null,
      "outputs": []
    },
    {
      "cell_type": "code",
      "metadata": {
        "id": "o-8Hb-Gc1alm"
      },
      "source": [
        "print('X has shape:', X.shape)\n",
        "print('y has shape:', y.shape)"
      ],
      "execution_count": null,
      "outputs": []
    },
    {
      "cell_type": "code",
      "metadata": {
        "id": "rUCqcsPQBA2Y"
      },
      "source": [
        "# drop the last 2 features (we'll work in 2D for now)\n",
        "X = X[:, :2]\n",
        "print('X has shape:', X.shape)"
      ],
      "execution_count": null,
      "outputs": []
    },
    {
      "cell_type": "markdown",
      "metadata": {
        "id": "_VkoeKYz1Iz8"
      },
      "source": [
        "# Let's tackle binary classification first"
      ]
    },
    {
      "cell_type": "code",
      "metadata": {
        "id": "Gvnw4P6J0ss3"
      },
      "source": [
        "def convert_to_binary(X, y):\n",
        "  # we will teach you how to slice numpy arrays next time :)\n",
        "  y01 = (y != 2)\n",
        "  X = X[y01, :]\n",
        "  y = y[y01]\n",
        "  return X, y"
      ],
      "execution_count": null,
      "outputs": []
    },
    {
      "cell_type": "code",
      "metadata": {
        "id": "PRtK478f1uoP"
      },
      "source": [
        "# TO DO: call convert_to_binary on X, y - 1 line\n",
        "X_bin, y_bin = None\n",
        "print('X_bin has shape:', X_bin.shape)\n",
        "print('y_bin has shape:', y_bin.shape)"
      ],
      "execution_count": null,
      "outputs": []
    },
    {
      "cell_type": "code",
      "metadata": {
        "id": "gPTEzmcX5qp-"
      },
      "source": [
        "def plot_data(X, y):\n",
        "  y0 = (y == 0)\n",
        "  y1 = (y == 1)\n",
        "\n",
        "  plt.figure(figsize=[8, 6])\n",
        "  plt.xlabel('sepal length (cm)')\n",
        "  plt.ylabel('sepal width (cm)')\n",
        "  plt.scatter(X[y0, 0], X[y0, 1], c='b', label='Class 0')\n",
        "  plt.scatter(X[y1, 0], X[y1, 1], c='r', label='Class 1')\n",
        "  plt.legend()"
      ],
      "execution_count": null,
      "outputs": []
    },
    {
      "cell_type": "code",
      "metadata": {
        "id": "CEk1-SCMBmFa"
      },
      "source": [
        "# TO DO: call plot_data on X_bin, y_bin - 1 line\n"
      ],
      "execution_count": null,
      "outputs": []
    },
    {
      "cell_type": "code",
      "metadata": {
        "id": "i_z2ZrMc6g29"
      },
      "source": [
        "# TO DO: split data into train and test data - 1 line\n",
        "# https://scikit-learn.org/stable/modules/generated/sklearn.model_selection.train_test_split.html\n",
        "X_train, X_test, y_train, y_test = None"
      ],
      "execution_count": null,
      "outputs": []
    },
    {
      "cell_type": "code",
      "metadata": {
        "id": "uklUwqg87Dkj"
      },
      "source": [
        "# TO DO: fit the logistic regression to X_train, y_train - 1 line\n",
        "# https://scikit-learn.org/stable/modules/generated/sklearn.linear_model.LogisticRegression.html\n",
        "log_reg = None"
      ],
      "execution_count": null,
      "outputs": []
    },
    {
      "cell_type": "code",
      "metadata": {
        "id": "-mhR1oYf7pkc"
      },
      "source": [
        "# TO DO: compute accuarcy on test data - 1 line\n",
        "acc = None\n",
        "print('Test accuracy:', acc)"
      ],
      "execution_count": null,
      "outputs": []
    },
    {
      "cell_type": "code",
      "metadata": {
        "id": "hckpgCdu9NBg"
      },
      "source": [
        "# TO DO: get model weights - 1 line\n"
      ],
      "execution_count": null,
      "outputs": []
    },
    {
      "cell_type": "code",
      "metadata": {
        "id": "8Abavmp39mVC"
      },
      "source": [
        "# TO DO: get model bias - 1 line\n"
      ],
      "execution_count": null,
      "outputs": []
    },
    {
      "cell_type": "code",
      "metadata": {
        "id": "ZOScGxRS9TQK"
      },
      "source": [
        "# plot decision boundary of model\n",
        "plot_data(X_bin, y_bin)\n",
        "slope = - (log_reg.coef_[:, 0]/log_reg.coef_[:, 1])\n",
        "intercept = - (log_reg.intercept_[0]/log_reg.coef_[:, 1])\n",
        "X_plot = np.arange(4, 8)\n",
        "y_plot = slope * X_plot + intercept\n",
        "\n",
        "# TO DO: plot X_plot, y_plot with plt.plot() - 1 line\n",
        "# https://matplotlib.org/stable/api/_as_gen/matplotlib.pyplot.plot.html\n",
        "\n",
        "\n",
        "plt.legend()"
      ],
      "execution_count": null,
      "outputs": []
    },
    {
      "cell_type": "markdown",
      "metadata": {
        "id": "ay06URJ-AsMH"
      },
      "source": [
        "# Success!"
      ]
    },
    {
      "cell_type": "code",
      "metadata": {
        "id": "h0nns4GQbIro"
      },
      "source": [
        ""
      ],
      "execution_count": null,
      "outputs": []
    }
  ]
}