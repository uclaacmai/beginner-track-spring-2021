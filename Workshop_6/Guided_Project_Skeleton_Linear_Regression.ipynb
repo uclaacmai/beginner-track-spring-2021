{
  "nbformat": 4,
  "nbformat_minor": 0,
  "metadata": {
    "colab": {
      "name": "Guided Project Skeleton - Linear Regression (Object-Oriented).ipynb",
      "provenance": [],
      "collapsed_sections": []
    },
    "kernelspec": {
      "name": "python3",
      "display_name": "Python 3"
    },
    "language_info": {
      "name": "python"
    }
  },
  "cells": [
    {
      "cell_type": "markdown",
      "metadata": {
        "id": "xsVoYCwPROCW"
      },
      "source": [
        "# $$\\textbf{Welcome to Beginner Track - Workshop 6 (Guided project part 1)}$$\n",
        "## $$\\text{In this workshop, we will implement a linear regression model from scratch (using numpy).}$$\n",
        "#### Attendance code: Germany\n",
        "#### Feedback form: https://forms.gle/hNmvGp69roaKrCuGA\n",
        "#### Discord: https://bit.ly/ACMdiscord"
      ]
    },
    {
      "cell_type": "code",
      "metadata": {
        "id": "J-VmzaJ6heMh"
      },
      "source": [
        "# import modules\n",
        "import matplotlib.pyplot as plt\n",
        "import numpy as np\n",
        "import pandas as pd\n",
        "from sklearn.model_selection import train_test_split\n",
        "from sklearn.datasets import load_boston\n",
        "from sklearn.metrics import r2_score"
      ],
      "execution_count": null,
      "outputs": []
    },
    {
      "cell_type": "code",
      "metadata": {
        "id": "pdw6fvaohqhh"
      },
      "source": [
        "# set the random seed\n",
        "np.random.seed(0)"
      ],
      "execution_count": null,
      "outputs": []
    },
    {
      "cell_type": "markdown",
      "metadata": {
        "id": "dPMsmy0miFb2"
      },
      "source": [
        "## $$\\textbf{Function to be learned - a line}$$\n",
        "### $$f(x)=\\pi x + 10$$"
      ]
    },
    {
      "cell_type": "code",
      "metadata": {
        "id": "zlzdFEiVh6vU"
      },
      "source": [
        "# TO DO: implement f(x) - 1 line\n",
        "def f(x):\n",
        "  return "
      ],
      "execution_count": null,
      "outputs": []
    },
    {
      "cell_type": "code",
      "metadata": {
        "id": "A4X9QOrbiKdW"
      },
      "source": [
        "def f_with_noise(x):\n",
        "  return f(x) + np.random.normal(0, 20, size=x.shape)"
      ],
      "execution_count": null,
      "outputs": []
    },
    {
      "cell_type": "code",
      "metadata": {
        "id": "-74OC1TSikt6"
      },
      "source": [
        "# TO DO: generate 100 data from [0, 100) for X - 1 line\n",
        "X = None\n",
        "y = f_with_noise(X)"
      ],
      "execution_count": null,
      "outputs": []
    },
    {
      "cell_type": "code",
      "metadata": {
        "id": "GhrG3NM6i12l"
      },
      "source": [
        "# plot\n",
        "plt.figure(figsize=[8, 6])\n",
        "plt.scatter(X, y, alpha=0.5)"
      ],
      "execution_count": null,
      "outputs": []
    },
    {
      "cell_type": "code",
      "metadata": {
        "id": "F3IRbmxIzMCL"
      },
      "source": [
        "# TO DO: reshape X into (N, 1) - 1 line\n",
        "X = None"
      ],
      "execution_count": null,
      "outputs": []
    },
    {
      "cell_type": "code",
      "metadata": {
        "id": "dF3r2hdjj8va"
      },
      "source": [
        "# shape\n",
        "print('Shape of X:', X.shape)\n",
        "print('Shape of y:', y.shape)"
      ],
      "execution_count": null,
      "outputs": []
    },
    {
      "cell_type": "code",
      "metadata": {
        "id": "ng0_V9Nsjuw2"
      },
      "source": [
        "# TO DO: split training and test data with train_test_split - 1 line\n",
        "X_train, X_test, y_train, y_test = None"
      ],
      "execution_count": null,
      "outputs": []
    },
    {
      "cell_type": "markdown",
      "metadata": {
        "id": "0JmlhxpKli0f"
      },
      "source": [
        "# $$\\textbf{Brief Review of Linear Regression}$$\n",
        "#### N: number of samples\n",
        "#### f: number of features\n",
        "#### X: data; shape = (N, f)\n",
        "#### y: labels/targets; shape = (N, )\n",
        "#### W: weights; shape = (f, )\n",
        "#### b: bias; scalar\n",
        "#### a: learning rate; scalar\n",
        "\\\\\n",
        "## $$\\textbf{Our hypothesis}$$\n",
        "### $$\\hat{y}(X)=XW+b$$\n",
        "\\\\\n",
        "## $$\\textbf{Loss function - MSE}$$\n",
        "### $$L(y, \\hat{y}) = \\frac{1}{N} \\sum_{i=1}^{N} \\big(y_i-\\hat{y_i}\\big)^2 $$\n",
        "\\\\\n",
        "## $$\\textbf{Gradients of Loss with respect to W, b}$$\n",
        "### $$ \\frac{\\partial L}{\\partial W} = \\frac{2}{N}X^T\\big(\\hat{y}-y\\big)$$\n",
        "### $$ \\frac{\\partial L}{\\partial b} = \\frac{2}{N}\\sum_{i=1}^{N}\\big(\\hat{y_i}-y_i\\big)$$\n",
        "\\\\\n",
        "## $$\\textbf{Gradient Descent - update W, b accordingly}$$\n",
        "### $$W = W - \\alpha \\frac{\\partial L}{\\partial W}$$\n",
        "### $$b = b - \\alpha \\frac{\\partial L}{\\partial b}$$"
      ]
    },
    {
      "cell_type": "code",
      "metadata": {
        "id": "vQML3QQZklQn"
      },
      "source": [
        "# Linear Regression Class\n",
        "class Linear_Regression():\n",
        "  def __init__(self, num_epochs=50, lr=0.00002, verbose=False):\n",
        "    \"\"\"\n",
        "    Ordinary least squares Linear Regression.\n",
        "\n",
        "    Linear_Regression fits a linear model with coefficients w = (w1, ..., wf)\n",
        "    to minimize the residual sum of squares between the observed targets in\n",
        "    the dataset, and the targets predicted by the linear approximation.\n",
        "\n",
        "    Parameters:\n",
        "      num_epochs - number of epochs\n",
        "      lr - learning rate\n",
        "      verbose - creates a plot if set to True\n",
        "\n",
        "    Attributes:\n",
        "      epochs - number of epochs\n",
        "      alpha - learning rate\n",
        "      verbose - creates a plot if set to True\n",
        "      weights - numpy.ndarray with shape (f, )\n",
        "      bias - float\n",
        "      losses - list containing the loss of each epoch (loss history)\n",
        "    \"\"\"\n",
        "    self.epochs = num_epochs\n",
        "    self.alpha = lr\n",
        "    self.verbose = verbose\n",
        "  \n",
        "  def predict(self, X):\n",
        "    \"\"\"\n",
        "    Makes a prediction using the hypothesis.\n",
        "\n",
        "    Parameters:\n",
        "      X - data: numpy.ndarray with shape (N, f)\n",
        "\n",
        "    Returns:\n",
        "      predictions - numpy.ndarray with shape (N, )\n",
        "    \"\"\"\n",
        "    # TO DO: implement predict (using our hypothesis) - 1 line\n",
        "    predictions = None\n",
        "    return predictions\n",
        "\n",
        "  def loss(self, y, y_hat):\n",
        "    \"\"\"\n",
        "    Computes the Mean Squared Error (MSE) of the current predictions.\n",
        "\n",
        "    Parameters:\n",
        "      y - targets: numpy.ndarray with shape (N, )\n",
        "      y_hat - predictions: numpy.ndarray with shape (N, )\n",
        "\n",
        "    Returns:\n",
        "      loss - float\n",
        "    \"\"\"\n",
        "    # TO DO: compute loss (MSE) - 1 line\n",
        "    mse_calc = None\n",
        "    return mse_calc\n",
        "\n",
        "  def grads(self, X, y, y_hat):\n",
        "    \"\"\"\n",
        "    Computes the gradients of the loss with respect the weights and bias.\n",
        "\n",
        "    Parameters:\n",
        "      X - data: numpy.ndarray with shape (N, f)\n",
        "      y - targets: numpy.ndarray with shape (N, )\n",
        "      y_hat - predictions: numpy.ndarray with shape (N, )\n",
        "\n",
        "    Returns:\n",
        "      grads - tuple containing the gradients dw, db\n",
        "    \"\"\"\n",
        "    n = y.shape[0]\n",
        "    # TO DO: compute gradients - 2 lines\n",
        "    dw = None\n",
        "    db = None\n",
        "    return dw, db\n",
        "\n",
        "  def fit(self, X, y):\n",
        "    \"\"\"\n",
        "    Fits the model to the training data and targets.\n",
        "\n",
        "    Parameters:\n",
        "      X - training data: numpy.ndarray with shape (N, f)\n",
        "      y - targets: numpy.ndarray with shape (N, )\n",
        "\n",
        "    Returns:\n",
        "      a reference to self\n",
        "    \"\"\"\n",
        "    # initialize weights and bias\n",
        "    self.weights = np.random.rand(X.shape[1])\n",
        "    self.bias = np.random.rand()\n",
        "    self.losses = []\n",
        "\n",
        "    # main loop for training\n",
        "    for i in range(self.epochs):\n",
        "      # TO DO: make predictions - 1 line\n",
        "      predictions = None\n",
        "\n",
        "      # TO DO: compute loss - 1 line\n",
        "      loss = None\n",
        "\n",
        "      # TO DO: compute gradients - 1 line\n",
        "      dw, db = None\n",
        "\n",
        "      # TO DO: update self.weights and self.bias - 2 lines\n",
        "      self.weights -= None\n",
        "      self.bias -= None\n",
        "\n",
        "      self.losses.append(loss)\n",
        "\n",
        "    if self.verbose:\n",
        "      plt.figure(figsize=[8, 6])\n",
        "      plt.xlabel('epoch')\n",
        "      plt.ylabel('loss')\n",
        "      plt.plot(np.arange(1, len(self.losses) + 1), self.losses)\n",
        "      plt.show()\n",
        "\n",
        "    return self"
      ],
      "execution_count": null,
      "outputs": []
    },
    {
      "cell_type": "code",
      "metadata": {
        "id": "dXuoA4sjwOfQ"
      },
      "source": [
        "# TO DO: fit the model to the train data - 1 line\n",
        "lin_reg = None"
      ],
      "execution_count": null,
      "outputs": []
    },
    {
      "cell_type": "code",
      "metadata": {
        "id": "A1t0rA7a-_00"
      },
      "source": [
        "print('weights:', lin_reg.weights)\n",
        "print('bias:', lin_reg.bias.round(10))"
      ],
      "execution_count": null,
      "outputs": []
    },
    {
      "cell_type": "code",
      "metadata": {
        "id": "MUh488zp0uXe"
      },
      "source": [
        "# TO DO: make prediction on test data - 1 line\n",
        "y_pred = None"
      ],
      "execution_count": null,
      "outputs": []
    },
    {
      "cell_type": "markdown",
      "metadata": {
        "id": "AU_n4vPI2gjc"
      },
      "source": [
        "## Which r2 score do you expect to be higher?"
      ]
    },
    {
      "cell_type": "code",
      "metadata": {
        "id": "2O1Q7anE4pJi"
      },
      "source": [
        "# r2 score\n",
        "print('test r2 score:', r2_score(y_test, y_pred).round(3))\n",
        "print('train r2 score:', r2_score(y_train, lin_reg.predict(X_train)).round(3))"
      ],
      "execution_count": null,
      "outputs": []
    },
    {
      "cell_type": "code",
      "metadata": {
        "id": "HuidK36exJdH"
      },
      "source": [
        "# plot data\n",
        "plt.figure(figsize=[8, 6])\n",
        "plt.scatter(X_train, y_train, alpha=0.5, label='train')\n",
        "plt.scatter(X_test, y_test, alpha=0.5, label='test')\n",
        "plt.plot(X, lin_reg.predict(X), color='r', label='best fit')\n",
        "plt.legend()"
      ],
      "execution_count": null,
      "outputs": []
    },
    {
      "cell_type": "markdown",
      "metadata": {
        "id": "Tmn3TG_U2nRg"
      },
      "source": [
        "## The effect of different learning rates"
      ]
    },
    {
      "cell_type": "code",
      "metadata": {
        "id": "z1rlbOaj24kX"
      },
      "source": [
        "lr = [0.000005, 0.00002, 0.00008]\n",
        "plt.figure(figsize=[8, 6])\n",
        "plt.xlabel('epoch')\n",
        "plt.ylabel('loss')\n",
        "\n",
        "for l in lr:\n",
        "  lin_reg = Linear_Regression(lr=l).fit(X_train, y_train)\n",
        "  plt.plot(np.arange(1, len(lin_reg.losses) + 1), lin_reg.losses, label=f'lr={l}')\n",
        "\n",
        "plt.legend()\n",
        "plt.show()"
      ],
      "execution_count": null,
      "outputs": []
    },
    {
      "cell_type": "markdown",
      "metadata": {
        "id": "hNDQjKze3DZw"
      },
      "source": [
        "## Let's apply our model to a real world dataset"
      ]
    },
    {
      "cell_type": "code",
      "metadata": {
        "id": "By-7V7yx29rO"
      },
      "source": [
        "# load the boston dataset\n",
        "boston_data = load_boston()"
      ],
      "execution_count": null,
      "outputs": []
    },
    {
      "cell_type": "code",
      "metadata": {
        "id": "kyNFvdvK31TP"
      },
      "source": [
        "# documentation\n",
        "print(boston_data.DESCR)"
      ],
      "execution_count": null,
      "outputs": []
    },
    {
      "cell_type": "code",
      "metadata": {
        "id": "m9i2829p3yud"
      },
      "source": [
        "# TO DO: store the boston dataset in a DataFrame - 1 line\n",
        "df = None\n",
        "df"
      ],
      "execution_count": null,
      "outputs": []
    },
    {
      "cell_type": "markdown",
      "metadata": {
        "id": "TuwtHeg-LhmI"
      },
      "source": [
        "## Are there any missing values? (This is important if you are collecting your own data)"
      ]
    },
    {
      "cell_type": "code",
      "metadata": {
        "id": "Kr8f99kwLeSh"
      },
      "source": [
        "# check for any missing values in the DataFrame\n",
        "pd.isnull(df).any()"
      ],
      "execution_count": null,
      "outputs": []
    },
    {
      "cell_type": "code",
      "metadata": {
        "id": "YLU5r4GVMc0f"
      },
      "source": [
        "# TO DO: store the data in X and targets in y - 2 lines\n",
        "X = None\n",
        "y = None"
      ],
      "execution_count": null,
      "outputs": []
    },
    {
      "cell_type": "code",
      "metadata": {
        "id": "LXvc6Ikz36_t"
      },
      "source": [
        "# train_test_split\n",
        "X_train, X_test, y_train, y_test = train_test_split(X, y, test_size=0.2, random_state=42)"
      ],
      "execution_count": null,
      "outputs": []
    },
    {
      "cell_type": "code",
      "metadata": {
        "id": "JkVwXYS85PN4"
      },
      "source": [
        "# fit (this will take a while to run)\n",
        "lin_reg2 = Linear_Regression(num_epochs=10**(6), lr=3.2*10**(-6)).fit(X_train, y_train)"
      ],
      "execution_count": null,
      "outputs": []
    },
    {
      "cell_type": "code",
      "metadata": {
        "id": "xDnuP6FF64Nn"
      },
      "source": [
        "# predict\n",
        "y_pred = lin_reg2.predict(X_test)"
      ],
      "execution_count": null,
      "outputs": []
    },
    {
      "cell_type": "code",
      "metadata": {
        "id": "Ri84uOEO6Lp1"
      },
      "source": [
        "# r2 score\n",
        "print('r2 score:', r2_score(y_test, y_pred).round(3))"
      ],
      "execution_count": null,
      "outputs": []
    },
    {
      "cell_type": "markdown",
      "metadata": {
        "id": "ClpGbH7o387a"
      },
      "source": [
        "## Let's compare our model to sklearn's model! (The moment of truth)"
      ]
    },
    {
      "cell_type": "code",
      "metadata": {
        "id": "1N96ftu6q_3l"
      },
      "source": [
        "from sklearn.linear_model import LinearRegression\n",
        "\n",
        "lin_reg3 = LinearRegression().fit(X_train, y_train)\n",
        "print('r2 score:', lin_reg3.score(X_test, y_test).round(3))"
      ],
      "execution_count": null,
      "outputs": []
    },
    {
      "cell_type": "markdown",
      "metadata": {
        "id": "MeCLlonN8d9F"
      },
      "source": [
        "## Not too shabby, eh?\n",
        "### Bonus challenge: implement an adaptive learning rate for our model\n",
        "##### An useful article to check out: https://towardsdatascience.com/understanding-rmsprop-faster-neural-network-learning-62e116fcf29a"
      ]
    }
  ]
}