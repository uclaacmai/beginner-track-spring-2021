{
  "nbformat": 4,
  "nbformat_minor": 0,
  "metadata": {
    "colab": {
      "name": "Guided Project Master - Linear Regression (Object-Oriented).ipynb",
      "provenance": [],
      "collapsed_sections": []
    },
    "kernelspec": {
      "name": "python3",
      "display_name": "Python 3"
    },
    "language_info": {
      "name": "python"
    }
  },
  "cells": [
    {
      "cell_type": "markdown",
      "metadata": {
        "id": "xsVoYCwPROCW"
      },
      "source": [
        "# $$\\textbf{Welcome to Beginner Track - Workshop 6 (Guided project part 1)}$$\n",
        "## $$\\text{In this workshop, we will implement a linear regression model from scratch (using numpy).}$$\n",
        "#### Attendance code: Germany\n",
        "#### Feedback form: https://forms.gle/hNmvGp69roaKrCuGA\n",
        "#### Discord: https://bit.ly/ACMdiscord"
      ]
    },
    {
      "cell_type": "code",
      "metadata": {
        "id": "J-VmzaJ6heMh"
      },
      "source": [
        "# import modules\n",
        "import matplotlib.pyplot as plt\n",
        "import numpy as np\n",
        "import pandas as pd\n",
        "from sklearn.model_selection import train_test_split\n",
        "from sklearn.datasets import load_boston\n",
        "from sklearn.metrics import r2_score"
      ],
      "execution_count": null,
      "outputs": []
    },
    {
      "cell_type": "code",
      "metadata": {
        "id": "pdw6fvaohqhh"
      },
      "source": [
        "# set the random seed\n",
        "np.random.seed(0)"
      ],
      "execution_count": null,
      "outputs": []
    },
    {
      "cell_type": "markdown",
      "metadata": {
        "id": "dPMsmy0miFb2"
      },
      "source": [
        "## $$\\textbf{Function to be learned - a line}$$\n",
        "### $$f(x)=\\pi x + 10$$"
      ]
    },
    {
      "cell_type": "code",
      "metadata": {
        "id": "zlzdFEiVh6vU"
      },
      "source": [
        "# TO DO: implement f(x) - 1 line\n",
        "def f(x):\n",
        "  return np.pi*x + 10"
      ],
      "execution_count": null,
      "outputs": []
    },
    {
      "cell_type": "code",
      "metadata": {
        "id": "A4X9QOrbiKdW"
      },
      "source": [
        "def f_with_noise(x):\n",
        "  return f(x) + np.random.normal(0, 20, size=x.shape)"
      ],
      "execution_count": null,
      "outputs": []
    },
    {
      "cell_type": "code",
      "metadata": {
        "id": "-74OC1TSikt6"
      },
      "source": [
        "# TO DO: generate 100 data from [0, 100) for X - 1 line\n",
        "X = np.arange(0, 100)\n",
        "y = f_with_noise(X)"
      ],
      "execution_count": null,
      "outputs": []
    },
    {
      "cell_type": "code",
      "metadata": {
        "colab": {
          "base_uri": "https://localhost:8080/",
          "height": 391
        },
        "id": "GhrG3NM6i12l",
        "outputId": "78faa1ac-b2b5-4fab-a6ec-302df2be125d"
      },
      "source": [
        "# plot\n",
        "plt.figure(figsize=[8, 6])\n",
        "plt.scatter(X, y, alpha=0.5)"
      ],
      "execution_count": null,
      "outputs": [
        {
          "output_type": "execute_result",
          "data": {
            "text/plain": [
              "<matplotlib.collections.PathCollection at 0x7f7f1087fd50>"
            ]
          },
          "metadata": {
            "tags": []
          },
          "execution_count": 6
        },
        {
          "output_type": "display_data",
          "data": {
            "image/png": "[encoded data removed]",
            "text/plain": [
              "<Figure size 576x432 with 1 Axes>"
            ]
          },
          "metadata": {
            "tags": [],
            "needs_background": "light"
          }
        }
      ]
    },
    {
      "cell_type": "code",
      "metadata": {
        "id": "F3IRbmxIzMCL"
      },
      "source": [
        "# TO DO: reshape X into (N, 1) - 1 line\n",
        "X = X.reshape(-1, 1)"
      ],
      "execution_count": null,
      "outputs": []
    },
    {
      "cell_type": "code",
      "metadata": {
        "colab": {
          "base_uri": "https://localhost:8080/"
        },
        "id": "dF3r2hdjj8va",
        "outputId": "4fa74343-984f-40f7-d006-73316461e682"
      },
      "source": [
        "# shape\n",
        "print('Shape of X:', X.shape)\n",
        "print('Shape of y:', y.shape)"
      ],
      "execution_count": null,
      "outputs": [
        {
          "output_type": "stream",
          "text": [
            "Shape of X: (100, 1)\n",
            "Shape of y: (100,)\n"
          ],
          "name": "stdout"
        }
      ]
    },
    {
      "cell_type": "code",
      "metadata": {
        "id": "ng0_V9Nsjuw2"
      },
      "source": [
        "# TO DO: split training and test data with train_test_split - 1 line\n",
        "X_train, X_test, y_train, y_test = train_test_split(X, y, test_size=0.2, random_state=42)"
      ],
      "execution_count": null,
      "outputs": []
    },
    {
      "cell_type": "markdown",
      "metadata": {
        "id": "0JmlhxpKli0f"
      },
      "source": [
        "# $$\\textbf{Brief Review of Linear Regression}$$\n",
        "#### N: number of samples\n",
        "#### f: number of features\n",
        "#### X: data; shape = (N, f)\n",
        "#### y: labels/targets; shape = (N, )\n",
        "#### W: weights; shape = (f, )\n",
        "#### b: bias; scalar\n",
        "#### a: learning rate; scalar\n",
        "\\\\\n",
        "## $$\\textbf{Our hypothesis}$$\n",
        "### $$\\hat{y}(X)=XW+b$$\n",
        "\\\\\n",
        "## $$\\textbf{Loss function - MSE}$$\n",
        "### $$L(y, \\hat{y}) = \\frac{1}{N} \\sum_{i=1}^{N} \\big(y_i-\\hat{y_i}\\big)^2 $$\n",
        "\\\\\n",
        "## $$\\textbf{Gradients of Loss with respect to W, b}$$\n",
        "### $$ \\frac{\\partial L}{\\partial W} = \\frac{2}{N}X^T\\big(\\hat{y}-y\\big)$$\n",
        "### $$ \\frac{\\partial L}{\\partial b} = \\frac{2}{N}\\sum_{i=1}^{N}\\big(\\hat{y_i}-y_i\\big)$$\n",
        "\\\\\n",
        "## $$\\textbf{Gradient Descent - update W, b accordingly}$$\n",
        "### $$W = W - \\alpha \\frac{\\partial L}{\\partial W}$$\n",
        "### $$b = b - \\alpha \\frac{\\partial L}{\\partial b}$$"
      ]
    },
    {
      "cell_type": "code",
      "metadata": {
        "id": "vQML3QQZklQn"
      },
      "source": [
        "# Linear Regression Class\n",
        "class Linear_Regression():\n",
        "  def __init__(self, num_epochs=50, lr=0.00002, verbose=False):\n",
        "    \"\"\"\n",
        "    Ordinary least squares Linear Regression.\n",
        "\n",
        "    Linear_Regression fits a linear model with coefficients w = (w1, ..., wf)\n",
        "    to minimize the residual sum of squares between the observed targets in\n",
        "    the dataset, and the targets predicted by the linear approximation.\n",
        "\n",
        "    Parameters:\n",
        "      num_epochs - number of epochs\n",
        "      lr - learning rate\n",
        "      verbose - creates a plot if set to True\n",
        "\n",
        "    Attributes:\n",
        "      epochs - number of epochs\n",
        "      alpha - learning rate\n",
        "      verbose - creates a plot if set to True\n",
        "      weights - numpy.ndarray with shape (f, )\n",
        "      bias - float\n",
        "      losses - list containing the loss of each epoch (loss history)\n",
        "    \"\"\"\n",
        "    self.epochs = num_epochs\n",
        "    self.alpha = lr\n",
        "    self.verbose = verbose\n",
        "  \n",
        "  def predict(self, X):\n",
        "    \"\"\"\n",
        "    Makes a prediction using the hypothesis.\n",
        "\n",
        "    Parameters:\n",
        "      X - data: numpy.ndarray with shape (N, f)\n",
        "\n",
        "    Returns:\n",
        "      predictions - numpy.ndarray with shape (N, )\n",
        "    \"\"\"\n",
        "    # TO DO: implement predict (using our hypothesis) - 1 line\n",
        "    predictions = np.dot(X, self.weights) + self.bias\n",
        "    return predictions\n",
        "\n",
        "  def loss(self, y, y_hat):\n",
        "    \"\"\"\n",
        "    Computes the Mean Squared Error (MSE) of the current predictions.\n",
        "\n",
        "    Parameters:\n",
        "      y - targets: numpy.ndarray with shape (N, )\n",
        "      y_hat - predictions: numpy.ndarray with shape (N, )\n",
        "\n",
        "    Returns:\n",
        "      loss - float\n",
        "    \"\"\"\n",
        "    # TO DO: compute loss (MSE) - 1 line\n",
        "    mse_calc = np.average((y - y_hat)**2)\n",
        "    return mse_calc\n",
        "\n",
        "  def grads(self, X, y, y_hat):\n",
        "    \"\"\"\n",
        "    Computes the gradients of the loss with respect the weights and bias.\n",
        "\n",
        "    Parameters:\n",
        "      X - data: numpy.ndarray with shape (N, f)\n",
        "      y - targets: numpy.ndarray with shape (N, )\n",
        "      y_hat - predictions: numpy.ndarray with shape (N, )\n",
        "\n",
        "    Returns:\n",
        "      grads - tuple containing the gradients dw, db\n",
        "    \"\"\"\n",
        "    n = y.shape[0]\n",
        "    # TO DO: compute gradients - 2 lines\n",
        "    dw = (2/n)*np.dot(X.T, (y_hat - y))\n",
        "    db = (2/n)*np.sum(y_hat - y)\n",
        "    return dw, db\n",
        "\n",
        "  def fit(self, X, y):\n",
        "    \"\"\"\n",
        "    Fits the model to the training data and targets.\n",
        "\n",
        "    Parameters:\n",
        "      X - training data: numpy.ndarray with shape (N, f)\n",
        "      y - targets: numpy.ndarray with shape (N, )\n",
        "\n",
        "    Returns:\n",
        "      a reference to self\n",
        "    \"\"\"\n",
        "    # initialize weights and bias\n",
        "    self.weights = np.random.rand(X.shape[1])\n",
        "    self.bias = np.random.rand()\n",
        "    self.losses = []\n",
        "\n",
        "    # main loop for training\n",
        "    for i in range(self.epochs):\n",
        "      # TO DO: make predictions - 1 line\n",
        "      predictions = self.predict(X)\n",
        "\n",
        "      # TO DO: compute loss - 1 line\n",
        "      loss = self.loss(y, predictions)\n",
        "\n",
        "      # TO DO: compute gradients - 1 line\n",
        "      dw, db = self.grads(X, y, predictions)\n",
        "\n",
        "      # TO DO: update self.weights and self.bias - 2 lines\n",
        "      self.weights -= self.alpha * dw\n",
        "      self.bias -= self.alpha * db\n",
        "\n",
        "      self.losses.append(loss)\n",
        "\n",
        "    if self.verbose:\n",
        "      plt.figure(figsize=[8, 6])\n",
        "      plt.xlabel('epoch')\n",
        "      plt.ylabel('loss')\n",
        "      plt.plot(np.arange(1, len(self.losses) + 1), self.losses)\n",
        "      plt.show()\n",
        "\n",
        "    return self"
      ],
      "execution_count": null,
      "outputs": []
    },
    {
      "cell_type": "code",
      "metadata": {
        "colab": {
          "base_uri": "https://localhost:8080/",
          "height": 388
        },
        "id": "dXuoA4sjwOfQ",
        "outputId": "e653c3f8-223a-482d-c030-da8a9dd6a7b1"
      },
      "source": [
        "# TO DO: fit the model to the train data - 1 line\n",
        "lin_reg = Linear_Regression(verbose=True).fit(X_train, y_train)"
      ],
      "execution_count": null,
      "outputs": [
        {
          "output_type": "display_data",
          "data": {
            "image/png": "[encoded data removed]",
            "text/plain": [
              "<Figure size 576x432 with 1 Axes>"
            ]
          },
          "metadata": {
            "tags": [],
            "needs_background": "light"
          }
        }
      ]
    },
    {
      "cell_type": "code",
      "metadata": {
        "colab": {
          "base_uri": "https://localhost:8080/"
        },
        "id": "A1t0rA7a-_00",
        "outputId": "543ca579-87dd-4bdd-ddc4-45ba3d99913b"
      },
      "source": [
        "print('weights:', lin_reg.weights)\n",
        "print('bias:', lin_reg.bias.round(10))"
      ],
      "execution_count": null,
      "outputs": [
        {
          "output_type": "stream",
          "text": [
            "weights: [3.32103687]\n",
            "bias: 0.6544168378\n"
          ],
          "name": "stdout"
        }
      ]
    },
    {
      "cell_type": "code",
      "metadata": {
        "id": "MUh488zp0uXe"
      },
      "source": [
        "# TO DO: make prediction on test data - 1 line\n",
        "y_pred = lin_reg.predict(X_test)"
      ],
      "execution_count": null,
      "outputs": []
    },
    {
      "cell_type": "markdown",
      "metadata": {
        "id": "AU_n4vPI2gjc"
      },
      "source": [
        "## Which r2 score do you expect to be higher?"
      ]
    },
    {
      "cell_type": "code",
      "metadata": {
        "colab": {
          "base_uri": "https://localhost:8080/"
        },
        "id": "2O1Q7anE4pJi",
        "outputId": "d5f118a9-c17a-4d16-a3ac-57ff914f3681"
      },
      "source": [
        "# r2 score\n",
        "print('test r2 score:', r2_score(y_test, y_pred).round(3))\n",
        "print('train r2 score:', r2_score(y_train, lin_reg.predict(X_train)).round(3))"
      ],
      "execution_count": null,
      "outputs": [
        {
          "output_type": "stream",
          "text": [
            "test r2 score: 0.902\n",
            "train r2 score: 0.952\n"
          ],
          "name": "stdout"
        }
      ]
    },
    {
      "cell_type": "code",
      "metadata": {
        "id": "HuidK36exJdH",
        "colab": {
          "base_uri": "https://localhost:8080/",
          "height": 391
        },
        "outputId": "b3b70945-5c86-425e-c6f1-cc7554c3b0da"
      },
      "source": [
        "# plot data\n",
        "plt.figure(figsize=[8, 6])\n",
        "plt.scatter(X_train, y_train, alpha=0.5, label='train')\n",
        "plt.scatter(X_test, y_test, alpha=0.5, label='test')\n",
        "plt.plot(X, lin_reg.predict(X), color='r', label='best fit')\n",
        "plt.legend()"
      ],
      "execution_count": null,
      "outputs": [
        {
          "output_type": "execute_result",
          "data": {
            "text/plain": [
              "<matplotlib.legend.Legend at 0x7f7f1030abd0>"
            ]
          },
          "metadata": {
            "tags": []
          },
          "execution_count": 15
        },
        {
          "output_type": "display_data",
          "data": {
            "image/png": "[encoded data removed]",
            "text/plain": [
              "<Figure size 576x432 with 1 Axes>"
            ]
          },
          "metadata": {
            "tags": [],
            "needs_background": "light"
          }
        }
      ]
    },
    {
      "cell_type": "markdown",
      "metadata": {
        "id": "Tmn3TG_U2nRg"
      },
      "source": [
        "## The effect of different learning rates"
      ]
    },
    {
      "cell_type": "code",
      "metadata": {
        "colab": {
          "base_uri": "https://localhost:8080/",
          "height": 388
        },
        "id": "z1rlbOaj24kX",
        "outputId": "8152486e-adb7-46f4-e857-6daddefc9c24"
      },
      "source": [
        "lr = [0.000005, 0.00002, 0.00008]\n",
        "plt.figure(figsize=[8, 6])\n",
        "plt.xlabel('epoch')\n",
        "plt.ylabel('loss')\n",
        "\n",
        "for l in lr:\n",
        "  lin_reg = Linear_Regression(lr=l).fit(X_train, y_train)\n",
        "  plt.plot(np.arange(1, len(lin_reg.losses) + 1), lin_reg.losses, label=f'lr={l}')\n",
        "\n",
        "plt.legend()\n",
        "plt.show()"
      ],
      "execution_count": null,
      "outputs": [
        {
          "output_type": "display_data",
          "data": {
            "image/png": "[encoded data removed]",
            "text/plain": [
              "<Figure size 576x432 with 1 Axes>"
            ]
          },
          "metadata": {
            "tags": [],
            "needs_background": "light"
          }
        }
      ]
    },
    {
      "cell_type": "markdown",
      "metadata": {
        "id": "hNDQjKze3DZw"
      },
      "source": [
        "## Let's apply our model to a real world dataset"
      ]
    },
    {
      "cell_type": "code",
      "metadata": {
        "id": "By-7V7yx29rO"
      },
      "source": [
        "# load the boston dataset with load_boston - 1 line\n",
        "boston_data = load_boston()"
      ],
      "execution_count": null,
      "outputs": []
    },
    {
      "cell_type": "code",
      "metadata": {
        "colab": {
          "base_uri": "https://localhost:8080/"
        },
        "id": "kyNFvdvK31TP",
        "outputId": "ff1d0b9b-1589-440f-ccb0-eec6fa3c36f3"
      },
      "source": [
        "# documentation\n",
        "print(boston_data.DESCR)"
      ],
      "execution_count": null,
      "outputs": [
        {
          "output_type": "stream",
          "text": [
            ".. _boston_dataset:\n",
            "\n",
            "Boston house prices dataset\n",
            "---------------------------\n",
            "\n",
            "**Data Set Characteristics:**  \n",
            "\n",
            "    :Number of Instances: 506 \n",
            "\n",
            "    :Number of Attributes: 13 numeric/categorical predictive. Median Value (attribute 14) is usually the target.\n",
            "\n",
            "    :Attribute Information (in order):\n",
            "        - CRIM     per capita crime rate by town\n",
            "        - ZN       proportion of residential land zoned for lots over 25,000 sq.ft.\n",
            "        - INDUS    proportion of non-retail business acres per town\n",
            "        - CHAS     Charles River dummy variable (= 1 if tract bounds river; 0 otherwise)\n",
            "        - NOX      nitric oxides concentration (parts per 10 million)\n",
            "        - RM       average number of rooms per dwelling\n",
            "        - AGE      proportion of owner-occupied units built prior to 1940\n",
            "        - DIS      weighted distances to five Boston employment centres\n",
            "        - RAD      index of accessibility to radial highways\n",
            "        - TAX      full-value property-tax rate per $10,000\n",
            "        - PTRATIO  pupil-teacher ratio by town\n",
            "        - B        1000(Bk - 0.63)^2 where Bk is the proportion of blacks by town\n",
            "        - LSTAT    % lower status of the population\n",
            "        - MEDV     Median value of owner-occupied homes in $1000's\n",
            "\n",
            "    :Missing Attribute Values: None\n",
            "\n",
            "    :Creator: Harrison, D. and Rubinfeld, D.L.\n",
            "\n",
            "This is a copy of UCI ML housing dataset.\n",
            "https://archive.ics.uci.edu/ml/machine-learning-databases/housing/\n",
            "\n",
            "\n",
            "This dataset was taken from the StatLib library which is maintained at Carnegie Mellon University.\n",
            "\n",
            "The Boston house-price data of Harrison, D. and Rubinfeld, D.L. 'Hedonic\n",
            "prices and the demand for clean air', J. Environ. Economics & Management,\n",
            "vol.5, 81-102, 1978.   Used in Belsley, Kuh & Welsch, 'Regression diagnostics\n",
            "...', Wiley, 1980.   N.B. Various transformations are used in the table on\n",
            "pages 244-261 of the latter.\n",
            "\n",
            "The Boston house-price data has been used in many machine learning papers that address regression\n",
            "problems.   \n",
            "     \n",
            ".. topic:: References\n",
            "\n",
            "   - Belsley, Kuh & Welsch, 'Regression diagnostics: Identifying Influential Data and Sources of Collinearity', Wiley, 1980. 244-261.\n",
            "   - Quinlan,R. (1993). Combining Instance-Based and Model-Based Learning. In Proceedings on the Tenth International Conference of Machine Learning, 236-243, University of Massachusetts, Amherst. Morgan Kaufmann.\n",
            "\n"
          ],
          "name": "stdout"
        }
      ]
    },
    {
      "cell_type": "code",
      "metadata": {
        "id": "m9i2829p3yud",
        "colab": {
          "base_uri": "https://localhost:8080/",
          "height": 419
        },
        "outputId": "0d6e72d2-21ea-43e9-d213-32319af5af48"
      },
      "source": [
        "# TO DO: store the boston dataset in a DataFrame - 1 line\n",
        "df = pd.DataFrame(data=boston_data.data, columns=boston_data.feature_names)\n",
        "df"
      ],
      "execution_count": null,
      "outputs": [
        {
          "output_type": "execute_result",
          "data": {
            "text/html": [
              "<div>\n",
              "<style scoped>\n",
              "    .dataframe tbody tr th:only-of-type {\n",
              "        vertical-align: middle;\n",
              "    }\n",
              "\n",
              "    .dataframe tbody tr th {\n",
              "        vertical-align: top;\n",
              "    }\n",
              "\n",
              "    .dataframe thead th {\n",
              "        text-align: right;\n",
              "    }\n",
              "</style>\n",
              "<table border=\"1\" class=\"dataframe\">\n",
              "  <thead>\n",
              "    <tr style=\"text-align: right;\">\n",
              "      <th></th>\n",
              "      <th>CRIM</th>\n",
              "      <th>ZN</th>\n",
              "      <th>INDUS</th>\n",
              "      <th>CHAS</th>\n",
              "      <th>NOX</th>\n",
              "      <th>RM</th>\n",
              "      <th>AGE</th>\n",
              "      <th>DIS</th>\n",
              "      <th>RAD</th>\n",
              "      <th>TAX</th>\n",
              "      <th>PTRATIO</th>\n",
              "      <th>B</th>\n",
              "      <th>LSTAT</th>\n",
              "    </tr>\n",
              "  </thead>\n",
              "  <tbody>\n",
              "    <tr>\n",
              "      <th>0</th>\n",
              "      <td>0.00632</td>\n",
              "      <td>18.0</td>\n",
              "      <td>2.31</td>\n",
              "      <td>0.0</td>\n",
              "      <td>0.538</td>\n",
              "      <td>6.575</td>\n",
              "      <td>65.2</td>\n",
              "      <td>4.0900</td>\n",
              "      <td>1.0</td>\n",
              "      <td>296.0</td>\n",
              "      <td>15.3</td>\n",
              "      <td>396.90</td>\n",
              "      <td>4.98</td>\n",
              "    </tr>\n",
              "    <tr>\n",
              "      <th>1</th>\n",
              "      <td>0.02731</td>\n",
              "      <td>0.0</td>\n",
              "      <td>7.07</td>\n",
              "      <td>0.0</td>\n",
              "      <td>0.469</td>\n",
              "      <td>6.421</td>\n",
              "      <td>78.9</td>\n",
              "      <td>4.9671</td>\n",
              "      <td>2.0</td>\n",
              "      <td>242.0</td>\n",
              "      <td>17.8</td>\n",
              "      <td>396.90</td>\n",
              "      <td>9.14</td>\n",
              "    </tr>\n",
              "    <tr>\n",
              "      <th>2</th>\n",
              "      <td>0.02729</td>\n",
              "      <td>0.0</td>\n",
              "      <td>7.07</td>\n",
              "      <td>0.0</td>\n",
              "      <td>0.469</td>\n",
              "      <td>7.185</td>\n",
              "      <td>61.1</td>\n",
              "      <td>4.9671</td>\n",
              "      <td>2.0</td>\n",
              "      <td>242.0</td>\n",
              "      <td>17.8</td>\n",
              "      <td>392.83</td>\n",
              "      <td>4.03</td>\n",
              "    </tr>\n",
              "    <tr>\n",
              "      <th>3</th>\n",
              "      <td>0.03237</td>\n",
              "      <td>0.0</td>\n",
              "      <td>2.18</td>\n",
              "      <td>0.0</td>\n",
              "      <td>0.458</td>\n",
              "      <td>6.998</td>\n",
              "      <td>45.8</td>\n",
              "      <td>6.0622</td>\n",
              "      <td>3.0</td>\n",
              "      <td>222.0</td>\n",
              "      <td>18.7</td>\n",
              "      <td>394.63</td>\n",
              "      <td>2.94</td>\n",
              "    </tr>\n",
              "    <tr>\n",
              "      <th>4</th>\n",
              "      <td>0.06905</td>\n",
              "      <td>0.0</td>\n",
              "      <td>2.18</td>\n",
              "      <td>0.0</td>\n",
              "      <td>0.458</td>\n",
              "      <td>7.147</td>\n",
              "      <td>54.2</td>\n",
              "      <td>6.0622</td>\n",
              "      <td>3.0</td>\n",
              "      <td>222.0</td>\n",
              "      <td>18.7</td>\n",
              "      <td>396.90</td>\n",
              "      <td>5.33</td>\n",
              "    </tr>\n",
              "    <tr>\n",
              "      <th>...</th>\n",
              "      <td>...</td>\n",
              "      <td>...</td>\n",
              "      <td>...</td>\n",
              "      <td>...</td>\n",
              "      <td>...</td>\n",
              "      <td>...</td>\n",
              "      <td>...</td>\n",
              "      <td>...</td>\n",
              "      <td>...</td>\n",
              "      <td>...</td>\n",
              "      <td>...</td>\n",
              "      <td>...</td>\n",
              "      <td>...</td>\n",
              "    </tr>\n",
              "    <tr>\n",
              "      <th>501</th>\n",
              "      <td>0.06263</td>\n",
              "      <td>0.0</td>\n",
              "      <td>11.93</td>\n",
              "      <td>0.0</td>\n",
              "      <td>0.573</td>\n",
              "      <td>6.593</td>\n",
              "      <td>69.1</td>\n",
              "      <td>2.4786</td>\n",
              "      <td>1.0</td>\n",
              "      <td>273.0</td>\n",
              "      <td>21.0</td>\n",
              "      <td>391.99</td>\n",
              "      <td>9.67</td>\n",
              "    </tr>\n",
              "    <tr>\n",
              "      <th>502</th>\n",
              "      <td>0.04527</td>\n",
              "      <td>0.0</td>\n",
              "      <td>11.93</td>\n",
              "      <td>0.0</td>\n",
              "      <td>0.573</td>\n",
              "      <td>6.120</td>\n",
              "      <td>76.7</td>\n",
              "      <td>2.2875</td>\n",
              "      <td>1.0</td>\n",
              "      <td>273.0</td>\n",
              "      <td>21.0</td>\n",
              "      <td>396.90</td>\n",
              "      <td>9.08</td>\n",
              "    </tr>\n",
              "    <tr>\n",
              "      <th>503</th>\n",
              "      <td>0.06076</td>\n",
              "      <td>0.0</td>\n",
              "      <td>11.93</td>\n",
              "      <td>0.0</td>\n",
              "      <td>0.573</td>\n",
              "      <td>6.976</td>\n",
              "      <td>91.0</td>\n",
              "      <td>2.1675</td>\n",
              "      <td>1.0</td>\n",
              "      <td>273.0</td>\n",
              "      <td>21.0</td>\n",
              "      <td>396.90</td>\n",
              "      <td>5.64</td>\n",
              "    </tr>\n",
              "    <tr>\n",
              "      <th>504</th>\n",
              "      <td>0.10959</td>\n",
              "      <td>0.0</td>\n",
              "      <td>11.93</td>\n",
              "      <td>0.0</td>\n",
              "      <td>0.573</td>\n",
              "      <td>6.794</td>\n",
              "      <td>89.3</td>\n",
              "      <td>2.3889</td>\n",
              "      <td>1.0</td>\n",
              "      <td>273.0</td>\n",
              "      <td>21.0</td>\n",
              "      <td>393.45</td>\n",
              "      <td>6.48</td>\n",
              "    </tr>\n",
              "    <tr>\n",
              "      <th>505</th>\n",
              "      <td>0.04741</td>\n",
              "      <td>0.0</td>\n",
              "      <td>11.93</td>\n",
              "      <td>0.0</td>\n",
              "      <td>0.573</td>\n",
              "      <td>6.030</td>\n",
              "      <td>80.8</td>\n",
              "      <td>2.5050</td>\n",
              "      <td>1.0</td>\n",
              "      <td>273.0</td>\n",
              "      <td>21.0</td>\n",
              "      <td>396.90</td>\n",
              "      <td>7.88</td>\n",
              "    </tr>\n",
              "  </tbody>\n",
              "</table>\n",
              "<p>506 rows × 13 columns</p>\n",
              "</div>"
            ],
            "text/plain": [
              "        CRIM    ZN  INDUS  CHAS    NOX  ...  RAD    TAX  PTRATIO       B  LSTAT\n",
              "0    0.00632  18.0   2.31   0.0  0.538  ...  1.0  296.0     15.3  396.90   4.98\n",
              "1    0.02731   0.0   7.07   0.0  0.469  ...  2.0  242.0     17.8  396.90   9.14\n",
              "2    0.02729   0.0   7.07   0.0  0.469  ...  2.0  242.0     17.8  392.83   4.03\n",
              "3    0.03237   0.0   2.18   0.0  0.458  ...  3.0  222.0     18.7  394.63   2.94\n",
              "4    0.06905   0.0   2.18   0.0  0.458  ...  3.0  222.0     18.7  396.90   5.33\n",
              "..       ...   ...    ...   ...    ...  ...  ...    ...      ...     ...    ...\n",
              "501  0.06263   0.0  11.93   0.0  0.573  ...  1.0  273.0     21.0  391.99   9.67\n",
              "502  0.04527   0.0  11.93   0.0  0.573  ...  1.0  273.0     21.0  396.90   9.08\n",
              "503  0.06076   0.0  11.93   0.0  0.573  ...  1.0  273.0     21.0  396.90   5.64\n",
              "504  0.10959   0.0  11.93   0.0  0.573  ...  1.0  273.0     21.0  393.45   6.48\n",
              "505  0.04741   0.0  11.93   0.0  0.573  ...  1.0  273.0     21.0  396.90   7.88\n",
              "\n",
              "[506 rows x 13 columns]"
            ]
          },
          "metadata": {
            "tags": []
          },
          "execution_count": 19
        }
      ]
    },
    {
      "cell_type": "markdown",
      "metadata": {
        "id": "TuwtHeg-LhmI"
      },
      "source": [
        "## Are there any missing values? (This is important if you are collecting your own data)"
      ]
    },
    {
      "cell_type": "code",
      "metadata": {
        "colab": {
          "base_uri": "https://localhost:8080/"
        },
        "id": "Kr8f99kwLeSh",
        "outputId": "41a3dd21-cfd5-487d-910f-ea0fb41f8ad3"
      },
      "source": [
        "# check for any missing values in the DataFrame\n",
        "pd.isnull(df).any()"
      ],
      "execution_count": null,
      "outputs": [
        {
          "output_type": "execute_result",
          "data": {
            "text/plain": [
              "CRIM       False\n",
              "ZN         False\n",
              "INDUS      False\n",
              "CHAS       False\n",
              "NOX        False\n",
              "RM         False\n",
              "AGE        False\n",
              "DIS        False\n",
              "RAD        False\n",
              "TAX        False\n",
              "PTRATIO    False\n",
              "B          False\n",
              "LSTAT      False\n",
              "dtype: bool"
            ]
          },
          "metadata": {
            "tags": []
          },
          "execution_count": 20
        }
      ]
    },
    {
      "cell_type": "code",
      "metadata": {
        "id": "YLU5r4GVMc0f"
      },
      "source": [
        "# TO DO: store the data in X and targets in y - 2 lines\n",
        "X = np.array(df)\n",
        "y = boston_data.target"
      ],
      "execution_count": null,
      "outputs": []
    },
    {
      "cell_type": "code",
      "metadata": {
        "id": "LXvc6Ikz36_t"
      },
      "source": [
        "# train_test_split\n",
        "X_train, X_test, y_train, y_test = train_test_split(X, y, test_size=0.2, random_state=42)"
      ],
      "execution_count": null,
      "outputs": []
    },
    {
      "cell_type": "code",
      "metadata": {
        "id": "JkVwXYS85PN4"
      },
      "source": [
        "# fit (this will take a while to run)\n",
        "lin_reg2 = Linear_Regression(num_epochs=10**(6), lr=3.2*10**(-6)).fit(X_train, y_train)"
      ],
      "execution_count": null,
      "outputs": []
    },
    {
      "cell_type": "code",
      "metadata": {
        "id": "xDnuP6FF64Nn"
      },
      "source": [
        "# predict\n",
        "y_pred = lin_reg2.predict(X_test)"
      ],
      "execution_count": null,
      "outputs": []
    },
    {
      "cell_type": "code",
      "metadata": {
        "colab": {
          "base_uri": "https://localhost:8080/"
        },
        "id": "Ri84uOEO6Lp1",
        "outputId": "26f0839d-f425-4245-ce2d-0a1b27a6addb"
      },
      "source": [
        "# r2 score\n",
        "print('r2 score:', r2_score(y_test, y_pred).round(3))"
      ],
      "execution_count": null,
      "outputs": [
        {
          "output_type": "stream",
          "text": [
            "r2 score: 0.612\n"
          ],
          "name": "stdout"
        }
      ]
    },
    {
      "cell_type": "markdown",
      "metadata": {
        "id": "ClpGbH7o387a"
      },
      "source": [
        "## Let's compare our model to sklearn's model! (The moment of truth)"
      ]
    },
    {
      "cell_type": "code",
      "metadata": {
        "colab": {
          "base_uri": "https://localhost:8080/"
        },
        "id": "1N96ftu6q_3l",
        "outputId": "c2245d57-2c1a-4645-e0f0-be8c23b8e31c"
      },
      "source": [
        "from sklearn.linear_model import LinearRegression\n",
        "\n",
        "lin_reg3 = LinearRegression().fit(X_train, y_train)\n",
        "print('r2 score:', lin_reg3.score(X_test, y_test).round(3))"
      ],
      "execution_count": null,
      "outputs": [
        {
          "output_type": "stream",
          "text": [
            "r2 score: 0.669\n"
          ],
          "name": "stdout"
        }
      ]
    },
    {
      "cell_type": "markdown",
      "metadata": {
        "id": "MeCLlonN8d9F"
      },
      "source": [
        "## Not too shabby, eh?\n",
        "### Bonus challenge: implement an adaptive learning rate for our model\n",
        "##### An useful article to check out: https://towardsdatascience.com/understanding-rmsprop-faster-neural-network-learning-62e116fcf29a"
      ]
    }
  ]
}